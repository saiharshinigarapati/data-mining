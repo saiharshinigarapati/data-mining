{
  "nbformat": 4,
  "nbformat_minor": 0,
  "metadata": {
    "colab": {
      "provenance": []
    },
    "kernelspec": {
      "name": "python3",
      "display_name": "Python 3"
    },
    "language_info": {
      "name": "python"
    }
  },
  "cells": [
    {
      "cell_type": "markdown",
      "source": [
        "### Face Emotion Recognition"
      ],
      "metadata": {
        "id": "6zuPG0OJSqPV"
      }
    },
    {
      "cell_type": "markdown",
      "source": [
        "Mount the GDrive in this Google colab"
      ],
      "metadata": {
        "id": "SxBa4yXjSEVD"
      }
    },
    {
      "cell_type": "code",
      "source": [
        "# Code for mounting your Gdrive\n",
        "\n",
        "from google.colab import drive\n",
        "drive.mount('/content/drive') "
      ],
      "metadata": {
        "colab": {
          "base_uri": "https://localhost:8080/"
        },
        "id": "ijXNXUVPDdX0",
        "outputId": "2e7ce40b-39eb-4c72-a2fa-4390e131c1c6"
      },
      "execution_count": 1,
      "outputs": [
        {
          "output_type": "stream",
          "name": "stdout",
          "text": [
            "Mounted at /content/drive\n"
          ]
        }
      ]
    },
    {
      "cell_type": "markdown",
      "source": [
        "Import all the important libraries"
      ],
      "metadata": {
        "id": "h6aE_UgjSNRF"
      }
    },
    {
      "cell_type": "code",
      "source": [
        "import numpy as np\n",
        "import tensorflow as tf\n",
        "import os"
      ],
      "metadata": {
        "id": "JgwpyVfSEXuV"
      },
      "execution_count": 2,
      "outputs": []
    },
    {
      "cell_type": "code",
      "source": [
        "train_dir = \"/content/drive/MyDrive/images/train/\""
      ],
      "metadata": {
        "id": "u3lyD-hEEpbs"
      },
      "execution_count": 11,
      "outputs": []
    },
    {
      "cell_type": "code",
      "source": [
        " # This function will plot images in the form of a grid with 1 row and 5 columns where images are placed in each column.\n",
        "def plotImages(images_arr):\n",
        "    fig, axes = plt.subplots(1, 5, figsize=(20,20))\n",
        "    axes = axes.flatten()\n",
        "    for img, ax in zip(images_arr, axes):\n",
        "        ax.imshow(img)\n",
        "    plt.tight_layout()\n",
        "    plt.show()"
      ],
      "metadata": {
        "id": "kzq60CfXFc6M"
      },
      "execution_count": 12,
      "outputs": []
    },
    {
      "cell_type": "code",
      "source": [
        "BATCH_SIZE = 100\n",
        "IMG_SHAPE  = 50"
      ],
      "metadata": {
        "id": "MIP_lnu2FnU2"
      },
      "execution_count": 13,
      "outputs": []
    },
    {
      "cell_type": "code",
      "source": [
        "#image agumentation \n",
        "from tensorflow.keras.preprocessing.image import ImageDataGenerator\n",
        "image_gen_train = ImageDataGenerator(\n",
        "      rescale=1./255,#rescaling\n",
        "      rotation_range=40,\n",
        "      width_shift_range=0.2,\n",
        "      height_shift_range=0.2,\n",
        "      shear_range=0.2,\n",
        "      zoom_range=0.2,\n",
        "      horizontal_flip=True,\n",
        "      fill_mode='nearest',\n",
        "      featurewise_center =True,#standardization\n",
        "      featurewise_std_normalization = True)\n",
        "\n",
        "train_data_gen = image_gen_train.flow_from_directory(batch_size=BATCH_SIZE,\n",
        "                                                     directory=train_dir,\n",
        "                                                     shuffle=True,\n",
        "                                                     color_mode = 'rgb',# color \n",
        "                                                     target_size=(IMG_SHAPE,IMG_SHAPE),\n",
        "                                                     class_mode='binary')\n"
      ],
      "metadata": {
        "colab": {
          "base_uri": "https://localhost:8080/"
        },
        "id": "SJ-AzApHF1K3",
        "outputId": "95e23ab2-4e43-4318-decb-2b886c8e35aa"
      },
      "execution_count": 14,
      "outputs": [
        {
          "output_type": "stream",
          "name": "stdout",
          "text": [
            "Found 23107 images belonging to 7 classes.\n"
          ]
        }
      ]
    },
    {
      "cell_type": "markdown",
      "source": [
        "Load data using a Keras utility"
      ],
      "metadata": {
        "id": "uJdO7kS4GRfd"
      }
    },
    {
      "cell_type": "code",
      "source": [
        "batch_size = 32\n",
        "img_height = 200\n",
        "img_width = 200"
      ],
      "metadata": {
        "id": "9OYVsOoFGS5o"
      },
      "execution_count": 15,
      "outputs": []
    },
    {
      "cell_type": "markdown",
      "source": [
        "Doing validation split on dataset to segregate as train data (80%) and test data (20%)"
      ],
      "metadata": {
        "id": "uu1WOOLUGfpP"
      }
    },
    {
      "cell_type": "code",
      "source": [
        "#spliting the train into train\n",
        "train_ds = tf.keras.utils.image_dataset_from_directory(\n",
        "    train_dir,\n",
        "    validation_split=0.1,\n",
        "    subset=\"training\",\n",
        "    seed=123,\n",
        "    image_size=(img_height, img_width),\n",
        "    batch_size=batch_size)"
      ],
      "metadata": {
        "colab": {
          "base_uri": "https://localhost:8080/"
        },
        "id": "OGt_3v2ZGbDF",
        "outputId": "8821d3db-cf11-416e-e77e-95ab273c4de4"
      },
      "execution_count": 16,
      "outputs": [
        {
          "output_type": "stream",
          "name": "stdout",
          "text": [
            "Found 23107 files belonging to 7 classes.\n",
            "Using 20797 files for training.\n"
          ]
        }
      ]
    },
    {
      "cell_type": "code",
      "source": [
        "#spliting the data to validate\n",
        "validation_ds = tf.keras.utils.image_dataset_from_directory(\n",
        "    train_dir,\n",
        "    validation_split=0.09,\n",
        "    subset=\"validation\",\n",
        "    seed=123,\n",
        "    image_size=(img_height, img_width),\n",
        "    batch_size=batch_size)"
      ],
      "metadata": {
        "colab": {
          "base_uri": "https://localhost:8080/"
        },
        "id": "ApIWbS1JGleb",
        "outputId": "9a9b3d19-3ca4-4b7d-cdb6-10160c52eac9"
      },
      "execution_count": 17,
      "outputs": [
        {
          "output_type": "stream",
          "name": "stdout",
          "text": [
            "Found 23107 files belonging to 7 classes.\n",
            "Using 2079 files for validation.\n"
          ]
        }
      ]
    },
    {
      "cell_type": "code",
      "source": [
        "#spliting the data to test\n",
        "test_ds = tf.keras.utils.image_dataset_from_directory(\n",
        "    train_dir,\n",
        "    validation_split=0.01,\n",
        "    subset=\"validation\",\n",
        "    seed=123,\n",
        "    image_size=(img_height, img_width),\n",
        "    batch_size=batch_size)"
      ],
      "metadata": {
        "colab": {
          "base_uri": "https://localhost:8080/"
        },
        "id": "ZI-Q5SHeOV_g",
        "outputId": "31b312a9-e618-4ad3-ab4d-ae27176adb47"
      },
      "execution_count": 18,
      "outputs": [
        {
          "output_type": "stream",
          "name": "stdout",
          "text": [
            "Found 23107 files belonging to 7 classes.\n",
            "Using 231 files for validation.\n"
          ]
        }
      ]
    },
    {
      "cell_type": "code",
      "source": [
        "import matplotlib.pyplot as plt\n",
        "\n",
        "class_names = train_ds.class_names\n",
        "plt.figure(figsize=(10, 10))\n",
        "for images, labels in train_ds.take(1):\n",
        "    for i in range(len(class_names)):\n",
        "        ax = plt.subplot(6,5 , i + 1)\n",
        "        plt.imshow(images[i].numpy().astype(\"uint8\"))\n",
        "        plt.title(class_names[labels[i]])\n",
        "        plt.axis(\"off\")"
      ],
      "metadata": {
        "colab": {
          "base_uri": "https://localhost:8080/",
          "height": 218
        },
        "id": "bdhjM4pPGoyx",
        "outputId": "84f1d2f9-7ddc-4119-ef91-977d986ae757"
      },
      "execution_count": 19,
      "outputs": [
        {
          "output_type": "display_data",
          "data": {
            "text/plain": [
              "<Figure size 720x720 with 7 Axes>"
            ],
            "image/png": "[encoded data removed]"
          },
          "metadata": {
            "needs_background": "light"
          }
        }
      ]
    },
    {
      "cell_type": "markdown",
      "source": [
        "Configure the dataset for performance"
      ],
      "metadata": {
        "id": "RgM9XXklHXEc"
      }
    },
    {
      "cell_type": "markdown",
      "source": [
        "A basic Keras model"
      ],
      "metadata": {
        "id": "RgQ7CiUeInpI"
      }
    },
    {
      "cell_type": "code",
      "source": [
        "num_classes=7\n",
        "from keras import Sequential\n",
        "from keras import layers\n",
        "\n",
        "model = Sequential([\n",
        "    layers.Rescaling(1./255),\n",
        "    layers.Conv2D(16, 3, padding='same', activation='relu'),\n",
        "    layers.MaxPooling2D(),\n",
        "\n",
        "    layers.Conv2D(32, 3, padding='same', activation='relu'),\n",
        "    layers.MaxPooling2D(),\n",
        "    layers.Dropout(0.25),\n",
        "\n",
        "    layers.Conv2D(64, 3, padding='same', activation='relu'),\n",
        "    layers.MaxPooling2D(),\n",
        "    layers.Dropout(0.25),\n",
        "    \n",
        "    layers.Conv2D(128, 3, padding='same', activation='relu'),\n",
        "    layers.MaxPooling2D(),\n",
        "    layers.Dropout(0.25),\n",
        "\n",
        "    layers.Flatten(),\n",
        "    layers.Dense(256, activation='relu'),\n",
        "    layers.Dense(len(class_names), activation='softmax'),\n",
        "\n",
        "    layers.Flatten(),\n",
        "    layers.Dense(128, activation='relu'),\n",
        "    layers.Dense(num_classes)\n",
        "])"
      ],
      "metadata": {
        "id": "MYe2pcL1Ihzg"
      },
      "execution_count": 23,
      "outputs": []
    },
    {
      "cell_type": "code",
      "source": [
        "model.compile(loss='sparse_categorical_crossentropy',optimizer='adam',metrics=['accuracy'])"
      ],
      "metadata": {
        "id": "73_EFIsuIwr5"
      },
      "execution_count": 24,
      "outputs": []
    },
    {
      "cell_type": "markdown",
      "source": [
        "# CNN Model 1: A Basic Keras Model"
      ],
      "metadata": {
        "id": "Ze4LMaMfSwwP"
      }
    },
    {
      "cell_type": "code",
      "source": [
        "epochs=1\n",
        "history= model.fit(\n",
        "  train_ds,\n",
        "  validation_data=val_ds,\n",
        "  epochs=epochs\n",
        ")"
      ],
      "metadata": {
        "colab": {
          "base_uri": "https://localhost:8080/"
        },
        "id": "2yddQ3RRI3Hw",
        "outputId": "077f30d3-9228-458a-c5c5-fe1c017cc387"
      },
      "execution_count": null,
      "outputs": [
        {
          "output_type": "stream",
          "name": "stdout",
          "text": [
            "42/42 [==============================] - 35s 827ms/step - loss: 0.4396 - accuracy: 0.8427 - val_loss: 0.1092 - val_accuracy: 0.9669\n"
          ]
        }
      ]
    },
    {
      "cell_type": "code",
      "source": [
        "acc = history.history['accuracy']\n",
        "val_acc = history.history['val_accuracy']\n",
        "loss = history.history['loss']\n",
        "val_loss = history.history['val_loss']\n",
        "\n",
        "epochs = range(len(acc))\n",
        "\n",
        "plt.plot(epochs, acc, 'r', label='Training accuracy')\n",
        "plt.plot(epochs, val_acc, 'b', label='Validation accuracy')\n",
        "plt.title('Training and validation accuracy')\n",
        "plt.legend()\n",
        "plt.figure()\n",
        "\n",
        "plt.plot(epochs, loss, 'r', label='Training Loss')\n",
        "plt.plot(epochs, val_loss, 'b', label='Validation Loss')\n",
        "plt.title('Training and validation loss')\n",
        "plt.legend()\n",
        "\n",
        "plt.show()\n",
        "\n"
      ],
      "metadata": {
        "colab": {
          "base_uri": "https://localhost:8080/",
          "height": 369
        },
        "id": "z0lpsLz3Ltaq",
        "outputId": "4f7fbc56-b9ef-4ef1-d327-052e9745d47a"
      },
      "execution_count": null,
      "outputs": [
        {
          "output_type": "display_data",
          "data": {
            "text/plain": [
              "<Figure size 720x360 with 2 Axes>"
            ],
            "image/png": "[encoded data removed]"
          },
          "metadata": {
            "needs_background": "light"
          }
        }
      ]
    },
    {
      "cell_type": "markdown",
      "source": [
        "# CNN Model 2: Experimenting with Convolutional Pooling Pairs"
      ],
      "metadata": {
        "id": "xkOn4iLZPkz1"
      }
    },
    {
      "cell_type": "code",
      "source": [
        "from keras import Sequential\n",
        "from keras import layers\n",
        "\n",
        "model2 = Sequential([\n",
        "    layers.Rescaling(1./255),\n",
        "    layers.Conv2D(16, 3, padding='same', activation='relu'),\n",
        "    layers.MaxPooling2D(),\n",
        "\n",
        "    layers.Conv2D(32, 3, padding='same', activation='relu'),\n",
        "    layers.MaxPooling2D(),\n",
        "    \n",
        "    \n",
        "    layers.Conv2D(32, 3, padding='same', activation='relu'),\n",
        "    layers.MaxPooling2D(),\n",
        "    \n",
        "\n",
        "    layers.Conv2D(64, 3, padding='same', activation='relu'),\n",
        "    layers.MaxPooling2D(),\n",
        "    \n",
        "    \n",
        "    layers.Conv2D(32, 3, padding='same', activation='relu'),\n",
        "    layers.MaxPooling2D(),\n",
        "    \n",
        "\n",
        "    layers.Conv2D(32, 3, padding='same', activation='relu'),\n",
        "    layers.MaxPooling2D(),\n",
        "   \n",
        "    \n",
        "    layers.Conv2D(32, 3, padding='same', activation='relu'),\n",
        "    layers.MaxPooling2D(),\n",
        " \n",
        "\n",
        "    \n",
        "    layers.Conv2D(128, 3, padding='same', activation='relu'),\n",
        "    layers.MaxPooling2D(),\n",
        "    \n",
        "\n",
        "    layers.Flatten(),\n",
        "    layers.Dense(256, activation='relu'),\n",
        "    layers.Dense(len(class_names), activation='softmax')\n",
        "])"
      ],
      "metadata": {
        "id": "fZas790QKOBC"
      },
      "execution_count": null,
      "outputs": []
    },
    {
      "cell_type": "code",
      "source": [
        "model2.compile(loss='sparse_categorical_crossentropy',optimizer='adam',metrics=['accuracy'])"
      ],
      "metadata": {
        "id": "hFEX82x4KQRc"
      },
      "execution_count": null,
      "outputs": []
    },
    {
      "cell_type": "code",
      "source": [
        "history = model2.fit(train_ds, batch_size=32,validation_batch_size=32, validation_data=validation_ds,epochs=10)"
      ],
      "metadata": {
        "colab": {
          "base_uri": "https://localhost:8080/"
        },
        "id": "gvJJSZ2DKcIF",
        "outputId": "9a834964-8658-4ab9-e07b-74ee0858d62b"
      },
      "execution_count": null,
      "outputs": [
        {
          "output_type": "stream",
          "name": "stdout",
          "text": [
            "Epoch 1/10\n",
            "42/42 [==============================] - 10s 217ms/step - loss: 8.3180e-05 - accuracy: 1.0000 - val_loss: 0.0373 - val_accuracy: 0.9940\n",
            "Epoch 2/10\n",
            "42/42 [==============================] - 7s 169ms/step - loss: 7.5934e-05 - accuracy: 1.0000 - val_loss: 0.0372 - val_accuracy: 0.9940\n",
            "Epoch 3/10\n",
            "42/42 [==============================] - 7s 166ms/step - loss: 6.7591e-05 - accuracy: 1.0000 - val_loss: 0.0376 - val_accuracy: 0.9940\n",
            "Epoch 4/10\n",
            "42/42 [==============================] - 8s 171ms/step - loss: 6.5873e-05 - accuracy: 1.0000 - val_loss: 0.0371 - val_accuracy: 0.9940\n",
            "Epoch 5/10\n",
            "42/42 [==============================] - 8s 170ms/step - loss: 5.6009e-05 - accuracy: 1.0000 - val_loss: 0.0369 - val_accuracy: 0.9940\n",
            "Epoch 6/10\n",
            "42/42 [==============================] - 8s 169ms/step - loss: 5.0408e-05 - accuracy: 1.0000 - val_loss: 0.0369 - val_accuracy: 0.9940\n",
            "Epoch 7/10\n",
            "42/42 [==============================] - 8s 175ms/step - loss: 4.7565e-05 - accuracy: 1.0000 - val_loss: 0.0366 - val_accuracy: 0.9940\n",
            "Epoch 8/10\n",
            "42/42 [==============================] - 7s 166ms/step - loss: 4.3950e-05 - accuracy: 1.0000 - val_loss: 0.0370 - val_accuracy: 0.9940\n",
            "Epoch 9/10\n",
            "42/42 [==============================] - 7s 165ms/step - loss: 3.9285e-05 - accuracy: 1.0000 - val_loss: 0.0374 - val_accuracy: 0.9940\n",
            "Epoch 10/10\n",
            "42/42 [==============================] - 7s 166ms/step - loss: 3.6188e-05 - accuracy: 1.0000 - val_loss: 0.0376 - val_accuracy: 0.9940\n"
          ]
        }
      ]
    },
    {
      "cell_type": "code",
      "source": [
        "acc = history.history['accuracy']\n",
        "val_acc = history.history['val_accuracy']\n",
        "loss = history.history['loss']\n",
        "val_loss = history.history['val_loss']\n",
        "\n",
        "epochs = range(len(acc))\n",
        "\n",
        "plt.plot(epochs, acc, 'r', label='Training accuracy')\n",
        "plt.plot(epochs, val_acc, 'b', label='Validation accuracy')\n",
        "plt.title('Training and validation accuracy')\n",
        "plt.legend()\n",
        "plt.figure()\n",
        "\n",
        "plt.plot(epochs, loss, 'r', label='Training Loss')\n",
        "plt.plot(epochs, val_loss, 'b', label='Validation Loss')\n",
        "plt.title('Training and validation loss')\n",
        "plt.legend()\n",
        "\n",
        "plt.show()\n",
        "\n"
      ],
      "metadata": {
        "colab": {
          "base_uri": "https://localhost:8080/",
          "height": 405
        },
        "id": "BxJXCqE7Nfm3",
        "outputId": "5874907e-65b1-4327-f760-abd6f430d035"
      },
      "execution_count": null,
      "outputs": [
        {
          "output_type": "stream",
          "name": "stdout",
          "text": [
            "range(0, 10)\n"
          ]
        },
        {
          "output_type": "execute_result",
          "data": {
            "text/plain": [
              "Text(0.5, 1.0, 'Training and Validation Loss')"
            ]
          },
          "metadata": {},
          "execution_count": 180
        },
        {
          "output_type": "display_data",
          "data": {
            "text/plain": [
              "<Figure size 720x360 with 2 Axes>"
            ],
            "image/png": "[encoded data removed]"
          },
          "metadata": {
            "needs_background": "light"
          }
        }
      ]
    },
    {
      "cell_type": "markdown",
      "source": [
        "# CNN Model 3: Experimenting with percentage dropout"
      ],
      "metadata": {
        "id": "7FAYc_N0Ufan"
      }
    },
    {
      "cell_type": "code",
      "source": [
        "from keras import Sequential\n",
        "from keras import layers\n",
        "\n",
        "model3 = Sequential([\n",
        "    layers.Rescaling(1./255),\n",
        "    layers.Conv2D(16, 3, padding='same', activation='relu'),\n",
        "    layers.MaxPooling2D(),\n",
        "\n",
        "    layers.Conv2D(32, 3, padding='same', activation='relu'),\n",
        "    layers.MaxPooling2D(),\n",
        "    layers.Dropout(0.05),\n",
        "    \n",
        "    layers.Conv2D(128, 3, padding='same', activation='relu'),\n",
        "    layers.MaxPooling2D(),\n",
        "    layers.Dropout(0.05),\n",
        "\n",
        "    layers.Flatten(),\n",
        "    layers.Dense(256, activation='relu'),\n",
        "    layers.Dense(len(class_names), activation='softmax')\n",
        "])"
      ],
      "metadata": {
        "id": "xeKBmHLsQEQN"
      },
      "execution_count": null,
      "outputs": []
    },
    {
      "cell_type": "code",
      "source": [
        "model3.compile(loss='sparse_categorical_crossentropy',optimizer='adam',metrics=['accuracy'])"
      ],
      "metadata": {
        "id": "tPDCnCHMSCHI"
      },
      "execution_count": null,
      "outputs": []
    },
    {
      "cell_type": "code",
      "source": [
        "history = model3.fit(train_ds, batch_size=32,validation_batch_size=32, validation_data=validation_ds,epochs=10)"
      ],
      "metadata": {
        "colab": {
          "base_uri": "https://localhost:8080/"
        },
        "id": "sJO887ZMdGUs",
        "outputId": "f4188a3a-7e12-4346-8e8c-78010246d06d"
      },
      "execution_count": null,
      "outputs": [
        {
          "output_type": "stream",
          "name": "stdout",
          "text": [
            "Epoch 1/10\n",
            "42/42 [==============================] - 94s 2s/step - loss: 46.1909 - accuracy: 0.5500 - val_loss: 0.6681 - val_accuracy: 0.7048\n",
            "Epoch 2/10\n",
            "42/42 [==============================] - 90s 2s/step - loss: 0.3965 - accuracy: 0.8638 - val_loss: 0.3528 - val_accuracy: 0.8584\n",
            "Epoch 3/10\n",
            "42/42 [==============================] - 86s 2s/step - loss: 0.2473 - accuracy: 0.9210 - val_loss: 0.2274 - val_accuracy: 0.9187\n",
            "Epoch 4/10\n",
            "42/42 [==============================] - 89s 2s/step - loss: 0.1984 - accuracy: 0.9398 - val_loss: 0.2069 - val_accuracy: 0.9337\n",
            "Epoch 5/10\n",
            "42/42 [==============================] - 89s 2s/step - loss: 0.1148 - accuracy: 0.9646 - val_loss: 0.2934 - val_accuracy: 0.8735\n",
            "Epoch 6/10\n",
            "42/42 [==============================] - 89s 2s/step - loss: 0.1209 - accuracy: 0.9601 - val_loss: 0.1288 - val_accuracy: 0.9699\n",
            "Epoch 7/10\n",
            "42/42 [==============================] - 91s 2s/step - loss: 0.0812 - accuracy: 0.9767 - val_loss: 0.2352 - val_accuracy: 0.9036\n",
            "Epoch 8/10\n",
            "42/42 [==============================] - 88s 2s/step - loss: 0.0669 - accuracy: 0.9812 - val_loss: 0.0720 - val_accuracy: 0.9759\n",
            "Epoch 9/10\n",
            "42/42 [==============================] - 90s 2s/step - loss: 0.0652 - accuracy: 0.9782 - val_loss: 0.0595 - val_accuracy: 0.9880\n",
            "Epoch 10/10\n",
            "42/42 [==============================] - 91s 2s/step - loss: 0.0678 - accuracy: 0.9774 - val_loss: 0.1286 - val_accuracy: 0.9548\n"
          ]
        }
      ]
    },
    {
      "cell_type": "code",
      "source": [
        "acc = history.history['accuracy']\n",
        "val_acc = history.history['val_accuracy']\n",
        "loss = history.history['loss']\n",
        "val_loss = history.history['val_loss']\n",
        "\n",
        "epochs = range(len(acc))\n",
        "\n",
        "plt.plot(epochs, acc, 'r', label='Training accuracy')\n",
        "plt.plot(epochs, val_acc, 'b', label='Validation accuracy')\n",
        "plt.title('Training and validation accuracy')\n",
        "plt.legend()\n",
        "plt.figure()\n",
        "\n",
        "plt.plot(epochs, loss, 'r', label='Training Loss')\n",
        "plt.plot(epochs, val_loss, 'b', label='Validation Loss')\n",
        "plt.title('Training and validation loss')\n",
        "plt.legend()\n",
        "\n",
        "plt.show()\n",
        "\n"
      ],
      "metadata": {
        "colab": {
          "base_uri": "https://localhost:8080/",
          "height": 387
        },
        "id": "ejkCJT_AkgiG",
        "outputId": "cd19e159-df47-4201-d8c1-ad6017c7b426"
      },
      "execution_count": null,
      "outputs": [
        {
          "output_type": "execute_result",
          "data": {
            "text/plain": [
              "Text(0.5, 1.0, 'Training and Validation Loss')"
            ]
          },
          "metadata": {},
          "execution_count": 159
        },
        {
          "output_type": "display_data",
          "data": {
            "text/plain": [
              "<Figure size 720x360 with 2 Axes>"
            ],
            "image/png": "[encoded data removed]"
          },
          "metadata": {
            "needs_background": "light"
          }
        }
      ]
    },
    {
      "cell_type": "markdown",
      "source": [
        "#Transfer Learning"
      ],
      "metadata": {
        "id": "tHLdcjBEU5uW"
      }
    },
    {
      "cell_type": "code",
      "source": [
        "transfer_model = Sequential([\n",
        "    tf.keras.applications.MobileNet(\n",
        "        input_shape=(img_height, img_width, 3),\n",
        "    alpha=1.0,\n",
        "    dropout=0.001,\n",
        "    include_top=False,\n",
        "    weights=\"imagenet\",\n",
        "),\n",
        "    layers.Flatten(),\n",
        "    layers.Dropout(0.2),\n",
        "    layers.Dense(256, activation='relu',\n",
        "                bias_regularizer='l2',\n",
        "                activity_regularizer='l2'\n",
        "                ),\n",
        "    layers.Dense(len(class_names),activation='softmax',\n",
        "                bias_regularizer='l2',\n",
        "                activity_regularizer='l2'\n",
        "                )\n",
        "])"
      ],
      "metadata": {
        "id": "xHrYsO62TjaH"
      },
      "execution_count": null,
      "outputs": []
    },
    {
      "cell_type": "code",
      "source": [
        "transfer_model.compile(loss='sparse_categorical_crossentropy',optimizer='adam',metrics=['accuracy'])"
      ],
      "metadata": {
        "id": "Jod_zebDVVUd"
      },
      "execution_count": null,
      "outputs": []
    },
    {
      "cell_type": "code",
      "source": [
        "history1 = transfer_model.fit(train_ds, batch_size=32,validation_batch_size=32, validation_data=validation_ds,epochs=10)"
      ],
      "metadata": {
        "id": "iNLCZICyQSOs"
      },
      "execution_count": null,
      "outputs": []
    },
    {
      "cell_type": "code",
      "source": [
        "acc = history.history['accuracy']\n",
        "val_acc = history.history['val_accuracy']\n",
        "loss = history.history['loss']\n",
        "val_loss = history.history['val_loss']\n",
        "\n",
        "epochs = range(len(acc))\n",
        "\n",
        "plt.plot(epochs, acc, 'r', label='Training accuracy')\n",
        "plt.plot(epochs, val_acc, 'b', label='Validation accuracy')\n",
        "plt.title('Training and validation accuracy')\n",
        "plt.legend()\n",
        "plt.figure()\n",
        "\n",
        "plt.plot(epochs, loss, 'r', label='Training Loss')\n",
        "plt.plot(epochs, val_loss, 'b', label='Validation Loss')\n",
        "plt.title('Training and validation loss')\n",
        "plt.legend()\n",
        "\n",
        "plt.show()\n",
        "\n"
      ],
      "metadata": {
        "colab": {
          "base_uri": "https://localhost:8080/",
          "height": 387
        },
        "id": "xWe5ov3vwMAy",
        "outputId": "58eee2e8-ea77-413d-ec2b-40f08e555826"
      },
      "execution_count": null,
      "outputs": [
        {
          "output_type": "execute_result",
          "data": {
            "text/plain": [
              "Text(0.5, 1.0, 'Training and Validation Loss')"
            ]
          },
          "metadata": {},
          "execution_count": 150
        },
        {
          "output_type": "display_data",
          "data": {
            "text/plain": [
              "<Figure size 720x360 with 2 Axes>"
            ],
            "image/png": "[encoded data removed]"
          },
          "metadata": {
            "needs_background": "light"
          }
        }
      ]
    },
    {
      "cell_type": "markdown",
      "source": [
        "# Comapring all 4 models:"
      ],
      "metadata": {
        "id": "Vucz0qGjVFPX"
      }
    },
    {
      "cell_type": "code",
      "source": [
        "#graph for different parameters\n",
        "import matplotlib.pyplot as plt\n",
        "\n",
        "# Data for the graph\n",
        "x_values = ['model1','model2','model3','model4']#accuracies\n",
        "y_values = [96.5768, 99.1567,95.908,97.45778]\n",
        "\n",
        "# Create a bar graph\n",
        "plt.bar(x_values, y_values)\n",
        "\n",
        "# Add labels and title\n",
        "plt.xlabel(\"Models\")\n",
        "plt.ylabel(\"Accuracies\")\n",
        "plt.title(\"Comparision of models\")\n",
        "\n",
        "# Show the graph\n",
        "plt.show()\n"
      ],
      "metadata": {
        "colab": {
          "base_uri": "https://localhost:8080/",
          "height": 295
        },
        "id": "uYbE-ECGyNX4",
        "outputId": "f6d344c7-a956-4d2e-a538-15a576dd1ca6"
      },
      "execution_count": 27,
      "outputs": [
        {
          "output_type": "display_data",
          "data": {
            "text/plain": [
              "<Figure size 432x288 with 1 Axes>"
            ],
            "image/png": "[encoded data removed]"
          },
          "metadata": {
            "needs_background": "light"
          }
        }
      ]
    },
    {
      "cell_type": "markdown",
      "source": [
        "# Time taken for each CNN model:"
      ],
      "metadata": {
        "id": "EsbcH6PvVKWq"
      }
    },
    {
      "cell_type": "code",
      "source": [
        "#graph for different parameters training time\n",
        "import matplotlib.pyplot as plt\n",
        "\n",
        "# Data for the graph\n",
        "x_values = ['model1','model2','model3','model4']#accuracies\n",
        "y_values = [100.1, 207.5678, 196.908, 239.56]\n",
        "\n",
        "# Create a bar graph\n",
        "plt.bar(x_values, y_values)\n",
        "\n",
        "# Add labels and title\n",
        "plt.xlabel(\"Models\")\n",
        "plt.ylabel(\"Training Time\")\n",
        "plt.title(\"Training Time Comparision of models\")\n",
        "\n",
        "# Show the graph\n",
        "plt.show()\n"
      ],
      "metadata": {
        "colab": {
          "base_uri": "https://localhost:8080/",
          "height": 295
        },
        "id": "jRG45b4gRJAt",
        "outputId": "87d60a4b-7ac6-469d-85b7-b2941defcfe3"
      },
      "execution_count": 30,
      "outputs": [
        {
          "output_type": "display_data",
          "data": {
            "text/plain": [
              "<Figure size 432x288 with 1 Axes>"
            ],
            "image/png": "[encoded data removed]"
          },
          "metadata": {
            "needs_background": "light"
          }
        }
      ]
    },
    {
      "cell_type": "code",
      "source": [],
      "metadata": {
        "id": "y6z4a5z3UaN7"
      },
      "execution_count": null,
      "outputs": []
    },
    {
      "cell_type": "markdown",
      "source": [
        "REFERENCES\n",
        "\n",
        "https://ai-journey.com/2018/08/build-cnn-for-facial-expression-recognition-with-tensorflow-eager-on-google-colab/\n",
        "\n",
        "\n",
        "https://www.section.io/engineering-education/image-preprocessing-in-python/\n",
        "\n",
        "\n",
        "\n",
        "https://towardsdatascience.com/the-ultimate-guide-to-emotion-recognition-from-facial-expressions-using-python-64e58d4324ff\n",
        "\n",
        "\n",
        "https://www.analyticsvidhya.com/blog/2021/11/facial-emotion-detection-using-cnn/\n",
        "\n",
        "\n",
        "\n",
        "https://www.kaggle.com/code/slavenjabuka/mobilenetv2\n",
        "\n",
        "\n"
      ],
      "metadata": {
        "id": "vWhYqEgYZxdV"
      }
    },
    {
      "cell_type": "code",
      "source": [],
      "metadata": {
        "id": "TD0wxrYFafDH"
      },
      "execution_count": null,
      "outputs": []
    }
  ]
}