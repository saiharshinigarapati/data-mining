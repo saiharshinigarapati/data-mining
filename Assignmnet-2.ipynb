{
 "cells": [
  {
   "cell_type": "markdown",
   "id": "6ed145e5",
   "metadata": {},
   "source": [
    "# Predict Reviews using Naive Bayes Classifier"
   ]
  },
  {
   "cell_type": "markdown",
   "id": "8c06021a",
   "metadata": {},
   "source": [
    "importing libraries"
   ]
  },
  {
   "cell_type": "code",
   "execution_count": 40,
   "id": "60089d10",
   "metadata": {},
   "outputs": [],
   "source": [
    "import json\n",
    "import pandas as pd\n",
    "import numpy as np\n",
    "import re\n",
    "from collections import Counter\n",
    "from tqdm import tqdm\n",
    "import matplotlib.pyplot as plt\n",
    "import seaborn as sns\n",
    "\n",
    "from sklearn.model_selection import train_test_split\n",
    "from sklearn.feature_extraction.text import CountVectorizer\n",
    "from sklearn.metrics import classification_report, confusion_matrix, accuracy_score"
   ]
  },
  {
   "cell_type": "markdown",
   "id": "d09f4ef5",
   "metadata": {},
   "source": [
    "import data from reviews.csv file"
   ]
  },
  {
   "cell_type": "code",
   "execution_count": 6,
   "id": "b281e86a",
   "metadata": {},
   "outputs": [],
   "source": [
    "data=pd.read_csv('rt_reviews.csv',encoding='ISO-8859-1')"
   ]
  },
  {
   "cell_type": "markdown",
   "id": "f4f331c4",
   "metadata": {},
   "source": [
    "print the first five rows"
   ]
  },
  {
   "cell_type": "code",
   "execution_count": 8,
   "id": "50c9d198",
   "metadata": {},
   "outputs": [
    {
     "data": {
      "text/html": [
       "<div>\n",
       "<style scoped>\n",
       "    .dataframe tbody tr th:only-of-type {\n",
       "        vertical-align: middle;\n",
       "    }\n",
       "\n",
       "    .dataframe tbody tr th {\n",
       "        vertical-align: top;\n",
       "    }\n",
       "\n",
       "    .dataframe thead th {\n",
       "        text-align: right;\n",
       "    }\n",
       "</style>\n",
       "<table border=\"1\" class=\"dataframe\">\n",
       "  <thead>\n",
       "    <tr style=\"text-align: right;\">\n",
       "      <th></th>\n",
       "      <th>Freshness</th>\n",
       "      <th>Review</th>\n",
       "    </tr>\n",
       "  </thead>\n",
       "  <tbody>\n",
       "    <tr>\n",
       "      <th>0</th>\n",
       "      <td>fresh</td>\n",
       "      <td>Manakamana doesn't answer any questions, yet ...</td>\n",
       "    </tr>\n",
       "    <tr>\n",
       "      <th>1</th>\n",
       "      <td>fresh</td>\n",
       "      <td>Wilfully offensive and powered by a chest-thu...</td>\n",
       "    </tr>\n",
       "    <tr>\n",
       "      <th>2</th>\n",
       "      <td>rotten</td>\n",
       "      <td>It would be difficult to imagine material mor...</td>\n",
       "    </tr>\n",
       "    <tr>\n",
       "      <th>3</th>\n",
       "      <td>rotten</td>\n",
       "      <td>Despite the gusto its star brings to the role...</td>\n",
       "    </tr>\n",
       "    <tr>\n",
       "      <th>4</th>\n",
       "      <td>rotten</td>\n",
       "      <td>If there was a good idea at the core of this ...</td>\n",
       "    </tr>\n",
       "  </tbody>\n",
       "</table>\n",
       "</div>"
      ],
      "text/plain": [
       "  Freshness                                             Review\n",
       "0     fresh   Manakamana doesn't answer any questions, yet ...\n",
       "1     fresh   Wilfully offensive and powered by a chest-thu...\n",
       "2    rotten   It would be difficult to imagine material mor...\n",
       "3    rotten   Despite the gusto its star brings to the role...\n",
       "4    rotten   If there was a good idea at the core of this ..."
      ]
     },
     "execution_count": 8,
     "metadata": {},
     "output_type": "execute_result"
    }
   ],
   "source": [
    "data.head(5)"
   ]
  },
  {
   "cell_type": "markdown",
   "id": "75e52e7b",
   "metadata": {},
   "source": [
    "identify the data type of the columns"
   ]
  },
  {
   "cell_type": "code",
   "execution_count": 12,
   "id": "04e01ddb",
   "metadata": {},
   "outputs": [
    {
     "data": {
      "text/plain": [
       "Freshness    object\n",
       "Review       object\n",
       "dtype: object"
      ]
     },
     "execution_count": 12,
     "metadata": {},
     "output_type": "execute_result"
    }
   ],
   "source": [
    "data.dtypes"
   ]
  },
  {
   "cell_type": "markdown",
   "id": "b3357a35",
   "metadata": {},
   "source": [
    "find the number of unique row for particular columns"
   ]
  },
  {
   "cell_type": "code",
   "execution_count": 15,
   "id": "98f5cadd",
   "metadata": {},
   "outputs": [
    {
     "data": {
      "text/plain": [
       "Freshness         2\n",
       "Review       339697\n",
       "dtype: int64"
      ]
     },
     "execution_count": 15,
     "metadata": {},
     "output_type": "execute_result"
    }
   ],
   "source": [
    "data.nunique()"
   ]
  },
  {
   "cell_type": "markdown",
   "id": "ac70ce67",
   "metadata": {},
   "source": [
    "find the number of rows with different class labels"
   ]
  },
  {
   "cell_type": "code",
   "execution_count": 20,
   "id": "13f149f8",
   "metadata": {},
   "outputs": [
    {
     "data": {
      "text/plain": [
       "fresh     240000\n",
       "rotten    240000\n",
       "Name: Freshness, dtype: int64"
      ]
     },
     "execution_count": 20,
     "metadata": {},
     "output_type": "execute_result"
    }
   ],
   "source": [
    "data['Freshness'].value_counts()"
   ]
  },
  {
   "cell_type": "markdown",
   "id": "41c4ad51",
   "metadata": {},
   "source": [
    "Data processing\n",
    "\n",
    "converts all the characters to lowercase, removes all numbers, replaces all non-alphanumeric characters with a space, and finally removes any remaining non-alphanumeric characters.\n",
    "\n"
   ]
  },
  {
   "cell_type": "code",
   "execution_count": 19,
   "id": "2c29b6e0",
   "metadata": {},
   "outputs": [],
   "source": [
    "def clean_text(sentence):\n",
    "    sentence = sentence.lower()\n",
    "    sentence = re.sub('[0-9]+', '', sentence)\n",
    "    sentence = re.sub('\\W+',' ', sentence)\n",
    "    sentence = re.sub('[^A-Za-z0-9]+', ' ', sentence)\n",
    "\n",
    "    return sentence"
   ]
  },
  {
   "cell_type": "markdown",
   "id": "5ef450e9",
   "metadata": {},
   "source": [
    "cleaning the review column "
   ]
  },
  {
   "cell_type": "code",
   "execution_count": 25,
   "id": "4b89b337",
   "metadata": {},
   "outputs": [],
   "source": [
    "data['Review']=data['Review'].map(lambda s: clean_text(s)) \n"
   ]
  },
  {
   "cell_type": "code",
   "execution_count": 26,
   "id": "a31214da",
   "metadata": {},
   "outputs": [
    {
     "data": {
      "text/html": [
       "<div>\n",
       "<style scoped>\n",
       "    .dataframe tbody tr th:only-of-type {\n",
       "        vertical-align: middle;\n",
       "    }\n",
       "\n",
       "    .dataframe tbody tr th {\n",
       "        vertical-align: top;\n",
       "    }\n",
       "\n",
       "    .dataframe thead th {\n",
       "        text-align: right;\n",
       "    }\n",
       "</style>\n",
       "<table border=\"1\" class=\"dataframe\">\n",
       "  <thead>\n",
       "    <tr style=\"text-align: right;\">\n",
       "      <th></th>\n",
       "      <th>Freshness</th>\n",
       "      <th>Review</th>\n",
       "    </tr>\n",
       "  </thead>\n",
       "  <tbody>\n",
       "    <tr>\n",
       "      <th>0</th>\n",
       "      <td>fresh</td>\n",
       "      <td>manakamana doesn t answer any questions yet m...</td>\n",
       "    </tr>\n",
       "    <tr>\n",
       "      <th>1</th>\n",
       "      <td>fresh</td>\n",
       "      <td>wilfully offensive and powered by a chest thu...</td>\n",
       "    </tr>\n",
       "    <tr>\n",
       "      <th>2</th>\n",
       "      <td>rotten</td>\n",
       "      <td>it would be difficult to imagine material mor...</td>\n",
       "    </tr>\n",
       "    <tr>\n",
       "      <th>3</th>\n",
       "      <td>rotten</td>\n",
       "      <td>despite the gusto its star brings to the role...</td>\n",
       "    </tr>\n",
       "    <tr>\n",
       "      <th>4</th>\n",
       "      <td>rotten</td>\n",
       "      <td>if there was a good idea at the core of this ...</td>\n",
       "    </tr>\n",
       "  </tbody>\n",
       "</table>\n",
       "</div>"
      ],
      "text/plain": [
       "  Freshness                                             Review\n",
       "0     fresh   manakamana doesn t answer any questions yet m...\n",
       "1     fresh   wilfully offensive and powered by a chest thu...\n",
       "2    rotten   it would be difficult to imagine material mor...\n",
       "3    rotten   despite the gusto its star brings to the role...\n",
       "4    rotten   if there was a good idea at the core of this ..."
      ]
     },
     "execution_count": 26,
     "metadata": {},
     "output_type": "execute_result"
    }
   ],
   "source": [
    "data.head(5)"
   ]
  },
  {
   "cell_type": "markdown",
   "id": "d1ade595",
   "metadata": {},
   "source": [
    "separating the attributes(sentence) and class labels"
   ]
  },
  {
   "cell_type": "code",
   "execution_count": 27,
   "id": "0c608c0d",
   "metadata": {},
   "outputs": [],
   "source": [
    "X = data['Review']\n",
    "y = data['Freshness']"
   ]
  },
  {
   "cell_type": "markdown",
   "id": "cacc122c",
   "metadata": {},
   "source": [
    "# Below is the process.\n",
    "# a. Merge the dataset into one. And divide the dataset as train, development and test. \n"
   ]
  },
  {
   "cell_type": "markdown",
   "id": "da29f4e6",
   "metadata": {},
   "source": [
    "\n",
    "\n",
    "Spliting the data into train and test data"
   ]
  },
  {
   "cell_type": "code",
   "execution_count": 30,
   "id": "5694cf63",
   "metadata": {},
   "outputs": [],
   "source": [
    "X_train, X_test, y_train, y_test = train_test_split(X, y, test_size=0.2, stratify=y, random_state=1)\n",
    "\n",
    "X_test, X_val, y_test, y_val = train_test_split(X_test, y_test, test_size=0.5, stratify=y_test, random_state=1)"
   ]
  },
  {
   "cell_type": "markdown",
   "id": "46cc1861",
   "metadata": {},
   "source": [
    "Print the length of the training and testing data"
   ]
  },
  {
   "cell_type": "code",
   "execution_count": 31,
   "id": "38d7c0be",
   "metadata": {},
   "outputs": [
    {
     "name": "stdout",
     "output_type": "stream",
     "text": [
      "Number of records in train data:  384000\n",
      "Number of records in test data:  48000\n",
      "Number of records in validation data:  48000\n"
     ]
    }
   ],
   "source": [
    "print(\"Number of records in train data: \", len(X_train))\n",
    "print(\"Number of records in test data: \", len(X_test))\n",
    "print(\"Number of records in validation data: \", len(X_val))"
   ]
  },
  {
   "cell_type": "markdown",
   "id": "069d2889",
   "metadata": {},
   "source": [
    "#  b. Build a vocabulary as list. \n",
    "[‘the’ ‘I’ ‘happy’ … ] \n"
   ]
  },
  {
   "cell_type": "code",
   "execution_count": 33,
   "id": "49aa4575",
   "metadata": {},
   "outputs": [
    {
     "name": "stdout",
     "output_type": "stream",
     "text": [
      "['it', 's', 'a', 'pleasing', 'irony', 'that', 'this', 'study', 'of', 'one']\n"
     ]
    }
   ],
   "source": [
    "all_words_list = []\n",
    "for review in X_train:\n",
    "    words = review.split()\n",
    "    all_words_list.append(words)\n",
    "    \n",
    "all_words = [val for sublist in all_words_list for val in sublist]\n",
    "\n",
    "print(all_words[:10])"
   ]
  },
  {
   "cell_type": "markdown",
   "id": "ed86c08d",
   "metadata": {},
   "source": [
    "Find all distinct words and their count"
   ]
  },
  {
   "cell_type": "code",
   "execution_count": 36,
   "id": "b5978b8a",
   "metadata": {},
   "outputs": [
    {
     "name": "stdout",
     "output_type": "stream",
     "text": [
      "The number of distinct words is : 79650\n"
     ]
    }
   ],
   "source": [
    "words_count_dict = dict(Counter(all_words))\n",
    "print(\"The number of distinct words is :\", len(words_count_dict.keys()))"
   ]
  },
  {
   "cell_type": "markdown",
   "id": "80a55b48",
   "metadata": {},
   "source": [
    "# A reverse index as the key value might be handy\n",
    "{“the”: 0, “I”:1, “happy”:2 , … }\n"
   ]
  },
  {
   "cell_type": "markdown",
   "id": "d5134e76",
   "metadata": {},
   "source": [
    "Print the first words and their count"
   ]
  },
  {
   "cell_type": "code",
   "execution_count": 37,
   "id": "6a65a58d",
   "metadata": {},
   "outputs": [
    {
     "name": "stdout",
     "output_type": "stream",
     "text": [
      "{'it': 154494, 's': 163646, 'a': 303316, 'pleasing': 591, 'irony': 444}\n"
     ]
    }
   ],
   "source": [
    "first_5_words = {k: words_count_dict[k] for k in list(words_count_dict)[:5]}\n",
    "print(first_5_words)"
   ]
  },
  {
   "cell_type": "markdown",
   "id": "63a66d64",
   "metadata": {},
   "source": [
    "# You may omit rare words for example if the occurrence is less than five times"
   ]
  },
  {
   "cell_type": "markdown",
   "id": "feef1fbb",
   "metadata": {},
   "source": [
    "Remove the rare words"
   ]
  },
  {
   "cell_type": "code",
   "execution_count": 38,
   "id": "7430ba79",
   "metadata": {},
   "outputs": [
    {
     "name": "stdout",
     "output_type": "stream",
     "text": [
      "6832\n",
      "['it', 's', 'a', 'pleasing', 'irony']\n"
     ]
    }
   ],
   "source": [
    "vocabulary = [key for key, val in words_count_dict.items() if val > 100]\n",
    "print(len(vocabulary))\n",
    "print(vocabulary[:5])"
   ]
  },
  {
   "cell_type": "markdown",
   "id": "a57ffecb",
   "metadata": {},
   "source": [
    "Transform the news discription into vocabulary counts"
   ]
  },
  {
   "cell_type": "code",
   "execution_count": 41,
   "id": "589af3d9",
   "metadata": {},
   "outputs": [
    {
     "name": "stdout",
     "output_type": "stream",
     "text": [
      "6832\n"
     ]
    },
    {
     "data": {
      "text/plain": [
       "array(['it', 's', 'a', ..., 'deaths', 'innovation', 'scarcely'],\n",
       "      dtype=object)"
      ]
     },
     "execution_count": 41,
     "metadata": {},
     "output_type": "execute_result"
    }
   ],
   "source": [
    "vectorizer = CountVectorizer(vocabulary=vocabulary)\n",
    "vectorizer.fit(X_train)\n",
    "print(len(vectorizer.get_feature_names_out()))\n",
    "vectorizer.get_feature_names_out()"
   ]
  },
  {
   "cell_type": "code",
   "execution_count": 42,
   "id": "602c4891",
   "metadata": {},
   "outputs": [
    {
     "name": "stdout",
     "output_type": "stream",
     "text": [
      "(384000, 6832)\n"
     ]
    }
   ],
   "source": [
    "X_train_feat = vectorizer.transform(X_train)\n",
    "print(X_train_feat.todense().shape)"
   ]
  },
  {
   "cell_type": "code",
   "execution_count": 43,
   "id": "cabdef92",
   "metadata": {},
   "outputs": [
    {
     "name": "stdout",
     "output_type": "stream",
     "text": [
      "(48000, 6832)\n"
     ]
    }
   ],
   "source": [
    "X_test_feat = vectorizer.transform(X_test)\n",
    "print(X_test_feat.todense().shape)"
   ]
  },
  {
   "cell_type": "code",
   "execution_count": 44,
   "id": "ddfbcbe0",
   "metadata": {},
   "outputs": [
    {
     "name": "stdout",
     "output_type": "stream",
     "text": [
      "(48000, 6832)\n"
     ]
    }
   ],
   "source": [
    "X_val_feat = vectorizer.transform(X_val)\n",
    "print(X_val_feat.todense().shape)"
   ]
  },
  {
   "cell_type": "markdown",
   "id": "ffbd1c92",
   "metadata": {},
   "source": [
    "# Calculate the following probability\n"
   ]
  },
  {
   "cell_type": "markdown",
   "id": "5fab9597",
   "metadata": {},
   "source": [
    "# Multinomial Naive Bayes Classifier"
   ]
  },
  {
   "cell_type": "markdown",
   "id": "6a233962",
   "metadata": {},
   "source": [
    "\n",
    "\n",
    "P(A|B) = P(B|A) * P(A) / P(B)\n",
    "\n",
    "P(A|B) = Posterior Probability\n",
    "\n",
    "P(B|A) = Likelihood\n",
    "\n",
    "P(A) = Prior Probability\n",
    "\n",
    "P(B) = Evidence\n",
    "\n",
    "For classification tasks, the Naive Bayes model can be written as\n",
    "\n",
    "\n",
    "P(Class|Data) = P(Data|Class) * P(Class) / P(Data)\n",
    "where P(Class|Data) is the probability of the class given the data (features).\n",
    "\n",
    "\n",
    "As the probability of observing the data is same for all classes for a given data, the denominator can be dropped. \n",
    "\n",
    "\n",
    "\n",
    "Hence,P(Class|X1, X2, .....Xn) = P(X1|Class) * P(X2|Class) ........ P(X2|Class) * P(Class)\n",
    "Prior probability P(Class)\n",
    "Prior probability is the probability of each class from the traning data"
   ]
  },
  {
   "cell_type": "code",
   "execution_count": 45,
   "id": "0c3b640c",
   "metadata": {},
   "outputs": [],
   "source": [
    "categorie_prior_prob = y_train.value_counts()/len(y_train)\n",
    "df_categorie_prior_prob = categorie_prior_prob.to_frame()\n",
    "df_categorie_prior_prob.reset_index(inplace=True)\n",
    "df_categorie_prior_prob.columns = ['category', 'prior_prob']"
   ]
  },
  {
   "cell_type": "code",
   "execution_count": 46,
   "id": "3b23c336",
   "metadata": {},
   "outputs": [],
   "source": [
    "P_prior_catg = df_categorie_prior_prob['prior_prob'].values\n",
    "#P_prior_catg"
   ]
  },
  {
   "cell_type": "code",
   "execution_count": 47,
   "id": "032710ba",
   "metadata": {},
   "outputs": [
    {
     "data": {
      "text/html": [
       "<div>\n",
       "<style scoped>\n",
       "    .dataframe tbody tr th:only-of-type {\n",
       "        vertical-align: middle;\n",
       "    }\n",
       "\n",
       "    .dataframe tbody tr th {\n",
       "        vertical-align: top;\n",
       "    }\n",
       "\n",
       "    .dataframe thead th {\n",
       "        text-align: right;\n",
       "    }\n",
       "</style>\n",
       "<table border=\"1\" class=\"dataframe\">\n",
       "  <thead>\n",
       "    <tr style=\"text-align: right;\">\n",
       "      <th></th>\n",
       "      <th>category</th>\n",
       "      <th>prior_prob</th>\n",
       "    </tr>\n",
       "  </thead>\n",
       "  <tbody>\n",
       "    <tr>\n",
       "      <th>0</th>\n",
       "      <td>fresh</td>\n",
       "      <td>0.5</td>\n",
       "    </tr>\n",
       "    <tr>\n",
       "      <th>1</th>\n",
       "      <td>rotten</td>\n",
       "      <td>0.5</td>\n",
       "    </tr>\n",
       "  </tbody>\n",
       "</table>\n",
       "</div>"
      ],
      "text/plain": [
       "  category  prior_prob\n",
       "0    fresh         0.5\n",
       "1   rotten         0.5"
      ]
     },
     "execution_count": 47,
     "metadata": {},
     "output_type": "execute_result"
    }
   ],
   "source": [
    "df_categorie_prior_prob.head(5)"
   ]
  },
  {
   "cell_type": "code",
   "execution_count": 48,
   "id": "680a834b",
   "metadata": {},
   "outputs": [
    {
     "data": {
      "text/html": [
       "<div>\n",
       "<style scoped>\n",
       "    .dataframe tbody tr th:only-of-type {\n",
       "        vertical-align: middle;\n",
       "    }\n",
       "\n",
       "    .dataframe tbody tr th {\n",
       "        vertical-align: top;\n",
       "    }\n",
       "\n",
       "    .dataframe thead th {\n",
       "        text-align: right;\n",
       "    }\n",
       "</style>\n",
       "<table border=\"1\" class=\"dataframe\">\n",
       "  <thead>\n",
       "    <tr style=\"text-align: right;\">\n",
       "      <th></th>\n",
       "      <th>category</th>\n",
       "      <th>prior_prob</th>\n",
       "    </tr>\n",
       "  </thead>\n",
       "  <tbody>\n",
       "    <tr>\n",
       "      <th>0</th>\n",
       "      <td>fresh</td>\n",
       "      <td>0.5</td>\n",
       "    </tr>\n",
       "    <tr>\n",
       "      <th>1</th>\n",
       "      <td>rotten</td>\n",
       "      <td>0.5</td>\n",
       "    </tr>\n",
       "  </tbody>\n",
       "</table>\n",
       "</div>"
      ],
      "text/plain": [
       "  category  prior_prob\n",
       "0    fresh         0.5\n",
       "1   rotten         0.5"
      ]
     },
     "execution_count": 48,
     "metadata": {},
     "output_type": "execute_result"
    }
   ],
   "source": [
    "df_categorie_prior_prob.tail(5)"
   ]
  },
  {
   "cell_type": "code",
   "execution_count": 49,
   "id": "8d4f2c44",
   "metadata": {},
   "outputs": [
    {
     "data": {
      "image/png": "[encoded data removed]",
      "text/plain": [
       "<Figure size 1800x600 with 1 Axes>"
      ]
     },
     "metadata": {},
     "output_type": "display_data"
    }
   ],
   "source": [
    "fig = plt.figure(figsize=(18, 6))\n",
    "plt.bar(df_categorie_prior_prob['category'], df_categorie_prior_prob['prior_prob'])\n",
    "_ = plt.xticks(rotation=90)\n",
    "_ = plt.ylabel(\"prior probability\")"
   ]
  },
  {
   "cell_type": "markdown",
   "id": "d6782e64",
   "metadata": {},
   "source": [
    "# Do following experiments\n",
    "# Compare the effect of Smoothing\n"
   ]
  },
  {
   "cell_type": "markdown",
   "id": "c78360f6",
   "metadata": {},
   "source": [
    "Likelihood P(X1|Class), P(X2|Class), ........ P(X2|Class)\n",
    "\n",
    "\n",
    "Probability of the word given a category/class\n",
    "\n",
    "\n",
    "\n",
    "Smoothing\n",
    "\n",
    "\n",
    "If a word does not exist in the category P(word|class) becomes 0.\n",
    "\n",
    "This makes the posterior probability also to be zero, as the posterior probability P(Class|X1, X2, .....Xn) = P(X1|Class) * P(X2|Class) ........ P(X2|Class) * P(Class)\n",
    "Laplace smoothing is applied to handle this issue.\n",
    "\n",
    "\n",
    "A small-sample correction or pseudo-count is applied din every probability estimate.\n",
    "We choose the smoothing parameter alpha = 1"
   ]
  },
  {
   "cell_type": "code",
   "execution_count": 50,
   "id": "7cd9f496",
   "metadata": {},
   "outputs": [],
   "source": [
    "# smoothing parameter\n",
    "alpha = 1"
   ]
  },
  {
   "cell_type": "code",
   "execution_count": 51,
   "id": "0c74dffc",
   "metadata": {},
   "outputs": [
    {
     "name": "stdout",
     "output_type": "stream",
     "text": [
      "6832\n"
     ]
    }
   ],
   "source": [
    "# vocabulary size, the number of distinct words\n",
    "n_vocabulary = len(vocabulary)\n",
    "print(n_vocabulary)"
   ]
  },
  {
   "cell_type": "code",
   "execution_count": 52,
   "id": "ca965d56",
   "metadata": {},
   "outputs": [
    {
     "name": "stdout",
     "output_type": "stream",
     "text": [
      "2\n"
     ]
    }
   ],
   "source": [
    "categories = df_categorie_prior_prob['category'].values\n",
    "n_categories = len(categories)\n",
    "print(n_categories)"
   ]
  },
  {
   "cell_type": "code",
   "execution_count": 53,
   "id": "de9cea15",
   "metadata": {},
   "outputs": [
    {
     "name": "stderr",
     "output_type": "stream",
     "text": [
      "100%|█████████████████████████████████████████████| 2/2 [00:00<00:00, 16.01it/s]"
     ]
    },
    {
     "name": "stdout",
     "output_type": "stream",
     "text": [
      "(2, 6832)\n"
     ]
    },
    {
     "name": "stderr",
     "output_type": "stream",
     "text": [
      "\n"
     ]
    }
   ],
   "source": [
    "P_word_catg = pd.DataFrame() \n",
    "for categorie in tqdm(categories):\n",
    "  catg_X_train_feat = X_train_feat[y_train == categorie]\n",
    "  catg_all_words_count = catg_X_train_feat.sum()\n",
    "  catg_each_word_count = catg_X_train_feat.sum(axis=0)  \n",
    "  catg_each_word_count = catg_each_word_count.flatten() + alpha\n",
    "  catg_each_word_prob = catg_each_word_count/(catg_all_words_count + alpha*n_vocabulary)\n",
    "  P_word_catg = pd.concat([P_word_catg, pd.DataFrame(catg_each_word_prob)])\n",
    "\n",
    "P_word_catg.columns = vocabulary\n",
    "P_word_catg.index = categories\n",
    "\n",
    "print(P_word_catg.shape)"
   ]
  },
  {
   "cell_type": "markdown",
   "id": "b82a13b3",
   "metadata": {},
   "source": [
    "# Derive Top 10 words that predicts each class\n",
    "P[class | word] \n"
   ]
  },
  {
   "cell_type": "code",
   "execution_count": 54,
   "id": "c6b1c190",
   "metadata": {},
   "outputs": [
    {
     "data": {
      "text/html": [
       "<div>\n",
       "<style scoped>\n",
       "    .dataframe tbody tr th:only-of-type {\n",
       "        vertical-align: middle;\n",
       "    }\n",
       "\n",
       "    .dataframe tbody tr th {\n",
       "        vertical-align: top;\n",
       "    }\n",
       "\n",
       "    .dataframe thead th {\n",
       "        text-align: right;\n",
       "    }\n",
       "</style>\n",
       "<table border=\"1\" class=\"dataframe\">\n",
       "  <thead>\n",
       "    <tr style=\"text-align: right;\">\n",
       "      <th></th>\n",
       "      <th>it</th>\n",
       "      <th>s</th>\n",
       "      <th>a</th>\n",
       "      <th>pleasing</th>\n",
       "      <th>irony</th>\n",
       "      <th>that</th>\n",
       "      <th>this</th>\n",
       "      <th>study</th>\n",
       "      <th>of</th>\n",
       "      <th>one</th>\n",
       "      <th>...</th>\n",
       "      <th>confrontation</th>\n",
       "      <th>werner</th>\n",
       "      <th>stooges</th>\n",
       "      <th>spirits</th>\n",
       "      <th>wilderness</th>\n",
       "      <th>offend</th>\n",
       "      <th>belt</th>\n",
       "      <th>deaths</th>\n",
       "      <th>innovation</th>\n",
       "      <th>scarcely</th>\n",
       "    </tr>\n",
       "  </thead>\n",
       "  <tbody>\n",
       "    <tr>\n",
       "      <th>fresh</th>\n",
       "      <td>0.020536</td>\n",
       "      <td>2.694066e-07</td>\n",
       "      <td>2.694066e-07</td>\n",
       "      <td>0.000110</td>\n",
       "      <td>0.000057</td>\n",
       "      <td>0.014699</td>\n",
       "      <td>0.008537</td>\n",
       "      <td>0.000310</td>\n",
       "      <td>0.035905</td>\n",
       "      <td>0.004665</td>\n",
       "      <td>...</td>\n",
       "      <td>0.000013</td>\n",
       "      <td>0.000021</td>\n",
       "      <td>0.000012</td>\n",
       "      <td>0.000022</td>\n",
       "      <td>0.000015</td>\n",
       "      <td>0.000007</td>\n",
       "      <td>0.000013</td>\n",
       "      <td>0.000007</td>\n",
       "      <td>0.000015</td>\n",
       "      <td>0.000011</td>\n",
       "    </tr>\n",
       "    <tr>\n",
       "      <th>rotten</th>\n",
       "      <td>0.021487</td>\n",
       "      <td>2.745366e-07</td>\n",
       "      <td>2.745366e-07</td>\n",
       "      <td>0.000051</td>\n",
       "      <td>0.000064</td>\n",
       "      <td>0.015114</td>\n",
       "      <td>0.009329</td>\n",
       "      <td>0.000117</td>\n",
       "      <td>0.032032</td>\n",
       "      <td>0.004151</td>\n",
       "      <td>...</td>\n",
       "      <td>0.000016</td>\n",
       "      <td>0.000013</td>\n",
       "      <td>0.000017</td>\n",
       "      <td>0.000013</td>\n",
       "      <td>0.000014</td>\n",
       "      <td>0.000022</td>\n",
       "      <td>0.000017</td>\n",
       "      <td>0.000025</td>\n",
       "      <td>0.000020</td>\n",
       "      <td>0.000019</td>\n",
       "    </tr>\n",
       "  </tbody>\n",
       "</table>\n",
       "<p>2 rows × 6832 columns</p>\n",
       "</div>"
      ],
      "text/plain": [
       "              it             s             a  pleasing     irony      that  \\\n",
       "fresh   0.020536  2.694066e-07  2.694066e-07  0.000110  0.000057  0.014699   \n",
       "rotten  0.021487  2.745366e-07  2.745366e-07  0.000051  0.000064  0.015114   \n",
       "\n",
       "            this     study        of       one  ...  confrontation    werner  \\\n",
       "fresh   0.008537  0.000310  0.035905  0.004665  ...       0.000013  0.000021   \n",
       "rotten  0.009329  0.000117  0.032032  0.004151  ...       0.000016  0.000013   \n",
       "\n",
       "         stooges   spirits  wilderness    offend      belt    deaths  \\\n",
       "fresh   0.000012  0.000022    0.000015  0.000007  0.000013  0.000007   \n",
       "rotten  0.000017  0.000013    0.000014  0.000022  0.000017  0.000025   \n",
       "\n",
       "        innovation  scarcely  \n",
       "fresh     0.000015  0.000011  \n",
       "rotten    0.000020  0.000019  \n",
       "\n",
       "[2 rows x 6832 columns]"
      ]
     },
     "execution_count": 54,
     "metadata": {},
     "output_type": "execute_result"
    }
   ],
   "source": [
    "P_word_catg.head(2)"
   ]
  },
  {
   "cell_type": "code",
   "execution_count": 55,
   "id": "9d801bc5",
   "metadata": {},
   "outputs": [],
   "source": [
    "def predict(X_feat, P_prior_catg, P_word_catg, categories):\n",
    "    predictions = []\n",
    "    P_word_catg_mat = P_word_catg.to_numpy()\n",
    "    X_feat = X_feat.todense() \n",
    "    for news_feat in tqdm(X_feat):\n",
    "        P_likelihood_news = np.multiply(news_feat, P_word_catg_mat)\n",
    "        P_likelihood_news[P_likelihood_news == 0] = 1\n",
    "        P_likelihood_news = np.prod(P_likelihood_news, axis=1).flatten()\n",
    "        P_each_class_pred = np.multiply(P_likelihood_news, P_prior_catg.T) # multiply likelihood with prior prob\n",
    "        categorie = categories[np.argmax(P_each_class_pred)]\n",
    "        predictions.append(categorie)\n",
    "        \n",
    "    return predictions"
   ]
  },
  {
   "cell_type": "code",
   "execution_count": 56,
   "id": "c97db541",
   "metadata": {},
   "outputs": [
    {
     "name": "stderr",
     "output_type": "stream",
     "text": [
      "100%|█████████████████████████████████| 384000/384000 [01:03<00:00, 6010.76it/s]\n"
     ]
    }
   ],
   "source": [
    "y_train_pred = predict(X_train_feat, P_prior_catg, P_word_catg, categories)"
   ]
  },
  {
   "cell_type": "markdown",
   "id": "f2547f65",
   "metadata": {},
   "source": [
    "# Using the test dataset\n",
    "# Use the optimal hyperparameters you found in the step e, and use it to calculate the final accuracy.  \n"
   ]
  },
  {
   "cell_type": "code",
   "execution_count": 57,
   "id": "34223c98",
   "metadata": {},
   "outputs": [
    {
     "name": "stdout",
     "output_type": "stream",
     "text": [
      "overall occuracy\n",
      "0.7814505208333333\n"
     ]
    }
   ],
   "source": [
    "print(\"overall occuracy\")\n",
    "print(accuracy_score(y_train, y_train_pred))"
   ]
  },
  {
   "cell_type": "code",
   "execution_count": 58,
   "id": "7e81fed5",
   "metadata": {},
   "outputs": [
    {
     "name": "stdout",
     "output_type": "stream",
     "text": [
      "classification report\n",
      "              precision    recall  f1-score   support\n",
      "\n",
      "       fresh       0.79      0.76      0.78    192000\n",
      "      rotten       0.77      0.80      0.79    192000\n",
      "\n",
      "    accuracy                           0.78    384000\n",
      "   macro avg       0.78      0.78      0.78    384000\n",
      "weighted avg       0.78      0.78      0.78    384000\n",
      "\n"
     ]
    }
   ],
   "source": [
    "print(\"classification report\")\n",
    "print(classification_report(y_train, y_train_pred))"
   ]
  },
  {
   "cell_type": "code",
   "execution_count": 59,
   "id": "7c2c2830",
   "metadata": {},
   "outputs": [
    {
     "name": "stdout",
     "output_type": "stream",
     "text": [
      "confusion matrix\n",
      "[[146202  45798]\n",
      " [ 38125 153875]]\n"
     ]
    }
   ],
   "source": [
    "print(\"confusion matrix\")\n",
    "cm = confusion_matrix(y_train, y_train_pred)\n",
    "print(cm)"
   ]
  },
  {
   "cell_type": "code",
   "execution_count": 62,
   "id": "a3a1a574",
   "metadata": {},
   "outputs": [
    {
     "data": {
      "text/plain": [
       "<AxesSubplot: >"
      ]
     },
     "execution_count": 62,
     "metadata": {},
     "output_type": "execute_result"
    },
    {
     "data": {
      "image/png": "[encoded data removed]",
      "text/plain": [
       "<Figure size 500x500 with 2 Axes>"
      ]
     },
     "metadata": {},
     "output_type": "display_data"
    }
   ],
   "source": [
    "plt.figure(figsize = (5, 5))\n",
    "df_cm = pd.DataFrame(cm, index=categories, columns=categories)\n",
    "sns.heatmap(df_cm, annot=True, cmap='Blues', fmt='g')"
   ]
  },
  {
   "cell_type": "code",
   "execution_count": 64,
   "id": "32136175",
   "metadata": {},
   "outputs": [
    {
     "name": "stderr",
     "output_type": "stream",
     "text": [
      "100%|███████████████████████████████████| 48000/48000 [00:08<00:00, 5928.23it/s]\n"
     ]
    }
   ],
   "source": [
    "y_test_pred = predict(X_test_feat, P_prior_catg, P_word_catg, categories)"
   ]
  },
  {
   "cell_type": "code",
   "execution_count": 65,
   "id": "7a1a44b7",
   "metadata": {},
   "outputs": [
    {
     "name": "stdout",
     "output_type": "stream",
     "text": [
      "overall occuracy\n",
      "0.7770416666666666\n"
     ]
    }
   ],
   "source": [
    "print(\"overall occuracy\")\n",
    "print(accuracy_score(y_test, y_test_pred))"
   ]
  },
  {
   "cell_type": "code",
   "execution_count": 66,
   "id": "72084dea",
   "metadata": {},
   "outputs": [
    {
     "name": "stdout",
     "output_type": "stream",
     "text": [
      "classification report\n",
      "              precision    recall  f1-score   support\n",
      "\n",
      "       fresh       0.79      0.75      0.77     24000\n",
      "      rotten       0.77      0.80      0.78     24000\n",
      "\n",
      "    accuracy                           0.78     48000\n",
      "   macro avg       0.78      0.78      0.78     48000\n",
      "weighted avg       0.78      0.78      0.78     48000\n",
      "\n"
     ]
    }
   ],
   "source": [
    "print(\"classification report\")\n",
    "print(classification_report(y_test, y_test_pred))"
   ]
  },
  {
   "cell_type": "code",
   "execution_count": 67,
   "id": "492c783f",
   "metadata": {},
   "outputs": [
    {
     "name": "stdout",
     "output_type": "stream",
     "text": [
      "confusion matrix\n",
      "[[18112  5888]\n",
      " [ 4814 19186]]\n"
     ]
    }
   ],
   "source": [
    "print(\"confusion matrix\")\n",
    "cm = confusion_matrix(y_test, y_test_pred)\n",
    "print(cm)"
   ]
  },
  {
   "cell_type": "code",
   "execution_count": 69,
   "id": "59c5a0a9",
   "metadata": {},
   "outputs": [
    {
     "data": {
      "text/plain": [
       "<AxesSubplot: >"
      ]
     },
     "execution_count": 69,
     "metadata": {},
     "output_type": "execute_result"
    },
    {
     "data": {
      "image/png": "[encoded data removed]",
      "text/plain": [
       "<Figure size 500x500 with 2 Axes>"
      ]
     },
     "metadata": {},
     "output_type": "display_data"
    }
   ],
   "source": [
    "plt.figure(figsize = (5, 5))\n",
    "df_cm = pd.DataFrame(cm, index=categories, columns=categories)\n",
    "sns.heatmap(df_cm, annot=True, cmap='Blues', fmt='g')"
   ]
  },
  {
   "cell_type": "code",
   "execution_count": 72,
   "id": "99c16b90",
   "metadata": {},
   "outputs": [
    {
     "data": {
      "image/png": "[encoded data removed]",
      "text/plain": [
       "<Figure size 300x300 with 1 Axes>"
      ]
     },
     "metadata": {},
     "output_type": "display_data"
    }
   ],
   "source": [
    "import matplotlib.pyplot as plt\n",
    "fig = plt.figure(figsize=(3,3))\n",
    "ax = fig.add_axes([0,0,1,1])\n",
    "langs = ['without smoothing','with smoothing']\n",
    "students = [13.45,64.96]\n",
    "ax.bar(langs,students)\n",
    "plt.show()"
   ]
  },
  {
   "cell_type": "code",
   "execution_count": null,
   "id": "ed5c49aa",
   "metadata": {},
   "outputs": [],
   "source": []
  }
 ],
 "metadata": {
  "kernelspec": {
   "display_name": "Python 3 (ipykernel)",
   "language": "python",
   "name": "python3"
  },
  "language_info": {
   "codemirror_mode": {
    "name": "ipython",
    "version": 3
   },
   "file_extension": ".py",
   "mimetype": "text/x-python",
   "name": "python",
   "nbconvert_exporter": "python",
   "pygments_lexer": "ipython3",
   "version": "3.9.12"
  }
 },
 "nbformat": 4,
 "nbformat_minor": 5
}
