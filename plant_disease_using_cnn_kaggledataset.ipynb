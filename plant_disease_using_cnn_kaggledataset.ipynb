{
  "nbformat": 4,
  "nbformat_minor": 0,
  "metadata": {
    "colab": {
      "provenance": []
    },
    "kernelspec": {
      "name": "python3",
      "display_name": "Python 3"
    }
  },
  "cells": [
    {
      "cell_type": "code",
      "metadata": {
        "id": "DHWVJx5hPZIv",
        "colab": {
          "base_uri": "https://localhost:8080/",
          "height": 34
        },
        "outputId": "fc144975-b5ea-4359-c797-a3009169d9f2"
      },
      "source": [
        "import numpy as np\n",
        "from os import listdir\n",
        "\n",
        "import os\n",
        "import h5py\n",
        "import cv2\n",
        "from keras.preprocessing.image import img_to_array\n",
        "import matplotlib.pyplot as plt\n",
        "from sklearn.preprocessing import LabelEncoder\n",
        "from sklearn.preprocessing import MinMaxScaler\n",
        "\n",
        "import glob\n",
        "import warnings\n",
        "from skimage.feature import local_binary_pattern\n",
        "# To calculate a normalized histogram \n",
        "from scipy.stats import itemfreq\n",
        "from sklearn.preprocessing import normalize\n",
        "# To read class from file\n",
        "import csv\n",
        "from sklearn.model_selection import train_test_split, cross_val_score"
      ],
      "execution_count": null,
      "outputs": [
        {
          "output_type": "stream",
          "text": [
            "Using TensorFlow backend.\n"
          ],
          "name": "stderr"
        }
      ]
    },
    {
      "cell_type": "code",
      "metadata": {
        "id": "RKFEc06F-kNF",
        "colab": {
          "base_uri": "https://localhost:8080/",
          "height": 34
        },
        "outputId": "d55937be-7854-48e1-af0f-d1274c722caa"
      },
      "source": [
        "from google.colab import drive\n",
        "drive.mount('/content/gdrive')"
      ],
      "execution_count": null,
      "outputs": [
        {
          "output_type": "stream",
          "text": [
            "Drive already mounted at /content/gdrive; to attempt to forcibly remount, call drive.mount(\"/content/gdrive\", force_remount=True).\n"
          ],
          "name": "stdout"
        }
      ]
    },
    {
      "cell_type": "code",
      "metadata": {
        "id": "CoQFZbBV-kuZ"
      },
      "source": [
        "directory_root = \"/content/gdrive/My Drive/rice_leaf_disease/PlantVillage/\""
      ],
      "execution_count": null,
      "outputs": []
    },
    {
      "cell_type": "code",
      "metadata": {
        "id": "jULdRKFT-99q"
      },
      "source": [
        "default_image_size = tuple((256, 256))\n",
        "bins=8\n",
        "h5_data          = 'data.h5'\n",
        "h5_labels        = 'labels.h5'\n",
        "num_trees = 100\n",
        "test_size = 0.10\n",
        "seed      = 9\n",
        "\n",
        "h5_data    = 'data.h5'\n",
        "h5_labels  = 'labels.h5'\n",
        "scoring    = \"accuracy\""
      ],
      "execution_count": null,
      "outputs": []
    },
    {
      "cell_type": "code",
      "metadata": {
        "id": "aQR-uzPw2Rro"
      },
      "source": [
        "def fd_histogram(image, mask=None):\n",
        "    # convert the image to HSV color-space\n",
        "    image = cv2.cvtColor(image, cv2.COLOR_BGR2HSV)\n",
        "    # compute the color histogram\n",
        "    hist  = cv2.calcHist([image], [0, 1, 2], None, [bins, bins, bins], [0, 256, 0, 256, 0, 256])\n",
        "    # normalize the histogram\n",
        "    cv2.normalize(hist, hist)\n",
        "    # return the histogram\n",
        "    return hist.flatten()"
      ],
      "execution_count": null,
      "outputs": []
    },
    {
      "cell_type": "code",
      "metadata": {
        "id": "PNGUCrCFATVp"
      },
      "source": [
        "import cv2, numpy\n",
        "\n",
        "# feature-descriptor-1: Hu Moments(shape)\n",
        "def fd_hu_moments(image):\n",
        "    image = cv2.cvtColor(image, cv2.COLOR_BGR2GRAY)\n",
        "    feature = cv2.HuMoments(cv2.moments(image)).flatten()\n",
        "    return feature"
      ],
      "execution_count": null,
      "outputs": []
    },
    {
      "cell_type": "code",
      "metadata": {
        "id": "4R6Ag_0v5_4P"
      },
      "source": [
        "\n",
        "def convert_image_to_array(image_dir):\n",
        "    try:\n",
        "        image = cv2.imread(image_dir)\n",
        "        if image is not None :\n",
        "            image = cv2.resize(image, default_image_size)   \n",
        "            return img_to_array(image)\n",
        "        else :\n",
        "            return np.array([])\n",
        "    except Exception as e:\n",
        "        print(f\"Error : {e}\")\n",
        "        return None"
      ],
      "execution_count": null,
      "outputs": []
    },
    {
      "cell_type": "markdown",
      "metadata": {
        "id": "nnZtaKPSuIiH"
      },
      "source": []
    },
    {
      "cell_type": "code",
      "metadata": {
        "id": "riH3KhWG6Ay_"
      },
      "source": [
        "def LBP(image):\n",
        "    # List for storing the LBP Histograms, address of images and the corresponding label \n",
        "                X_test = []\n",
        "               \n",
        "            # For each image in the training set calculate the LBP histogram\n",
        "            # and update X_test, X_name and y_test\n",
        "                # Read the image\n",
        "                im = cv2.imread(image)\n",
        "                # Convert to grayscale as LBP works on grayscale image\n",
        "                im_gray = cv2.cvtColor(im, cv2.COLOR_BGR2GRAY)\n",
        "                radius = 3\n",
        "                # Number of points to be considered as neighbourers \n",
        "                no_points = 8 * radius\n",
        "                # Uniform LBP is used\n",
        "                lbp = local_binary_pattern(im_gray, no_points, radius, method='uniform')\n",
        "                # Calculate the histogram\n",
        "                x = itemfreq(lbp.ravel())\n",
        "                # Normalize the histogram\n",
        "                hist = x[:, 1]/sum(x[:, 1])\n",
        "                X_test.append(hist)\n",
        "                x_test=np.array(X_test)\n",
        "                return x_test.flatten()"
      ],
      "execution_count": null,
      "outputs": []
    },
    {
      "cell_type": "code",
      "metadata": {
        "id": "xYw-7lp36EtW",
        "colab": {
          "base_uri": "https://localhost:8080/",
          "height": 408
        },
        "outputId": "eee71da6-dca5-40b0-9e04-e02c08f8e1db"
      },
      "source": [
        "fixed_size = tuple((500, 500))\n",
        "label_list = []\n",
        "image_list=[]\n",
        "global_features = []\n",
        "labels          = []\n",
        "print(\"[INFO] Loading images ...\")\n",
        "root_dir = listdir(directory_root)\n",
        "for plant_folder in root_dir :\n",
        "    plant_disease_folder_list = listdir(f\"{directory_root}/{plant_folder}\")\n",
        "    for plant_disease_folder in plant_disease_folder_list:\n",
        "        print(f\"[INFO] Processing {plant_disease_folder} ...\")\n",
        "        plant_disease_image_list = listdir(f\"{directory_root}/{plant_folder}/{plant_disease_folder}/\")\n",
        "        for image in plant_disease_image_list:\n",
        "            image_directory = f\"{directory_root}/{plant_folder}/{plant_disease_folder}/{image}\"\n",
        "            \n",
        "            if image_directory.endswith(\".jpg\") == True or image_directory.endswith(\".JPG\") == True:\n",
        "                    image = cv2.imread(image_directory )\n",
        "                    image = cv2.resize(image, fixed_size)\n",
        "                    fv_hu_moments = fd_hu_moments(image)\n",
        "                    fv_histogram  = fd_histogram(image)\n",
        "                    fv_texture=LBP(image_directory)\n",
        "    \n",
        "                    global_feature = np.hstack([fv_histogram, fv_hu_moments,fv_texture])\n",
        "                    global_features.append(global_feature)\n",
        "                    image_list.append(convert_image_to_array(image_directory))\n",
        "                    label_list.append(plant_disease_folder)\n",
        "        print(\"[INFO] Image loading completed\")  "
      ],
      "execution_count": null,
      "outputs": [
        {
          "output_type": "stream",
          "text": [
            "[INFO] Loading images ...\n",
            "[INFO] Processing Pepper__bell___healthy ...\n"
          ],
          "name": "stdout"
        },
        {
          "output_type": "stream",
          "text": [
            "/usr/local/lib/python3.6/dist-packages/ipykernel_launcher.py:17: DeprecationWarning: `itemfreq` is deprecated!\n",
            "`itemfreq` is deprecated and will be removed in a future version. Use instead `np.unique(..., return_counts=True)`\n"
          ],
          "name": "stderr"
        },
        {
          "output_type": "stream",
          "text": [
            "[INFO] Image loading completed\n",
            "[INFO] Processing Potato___Early_blight ...\n",
            "[INFO] Image loading completed\n",
            "[INFO] Processing Potato___Late_blight ...\n",
            "[INFO] Image loading completed\n",
            "[INFO] Processing Tomato__Target_Spot ...\n",
            "[INFO] Image loading completed\n",
            "[INFO] Processing Tomato__Tomato_mosaic_virus ...\n",
            "[INFO] Image loading completed\n",
            "[INFO] Processing Tomato__Tomato_YellowLeaf__Curl_Virus ...\n",
            "[INFO] Image loading completed\n",
            "[INFO] Processing Tomato_Bacterial_spot ...\n",
            "[INFO] Image loading completed\n",
            "[INFO] Processing Tomato_Early_blight ...\n",
            "[INFO] Image loading completed\n",
            "[INFO] Processing Tomato_Late_blight ...\n",
            "[INFO] Image loading completed\n",
            "[INFO] Processing Tomato_Spider_mites_Two_spotted_spider_mite ...\n",
            "[INFO] Image loading completed\n"
          ],
          "name": "stdout"
        }
      ]
    },
    {
      "cell_type": "code",
      "metadata": {
        "id": "PsrpQSYU6Ygp",
        "colab": {
          "base_uri": "https://localhost:8080/",
          "height": 246
        },
        "outputId": "b658aef2-0fad-4223-eede-2c8f9dc879b3"
      },
      "source": [
        " # encode the target labels\n",
        "targetNames = np.unique(label_list)\n",
        "le          = LabelEncoder()\n",
        "target      = le.fit_transform(label_list)\n",
        "print(\"[STATUS] training labels encoded...\")"
      ],
      "execution_count": null,
      "outputs": [
        {
          "output_type": "error",
          "ename": "NameError",
          "evalue": "ignored",
          "traceback": [
            "\u001b[0;31m---------------------------------------------------------------------------\u001b[0m",
            "\u001b[0;31mNameError\u001b[0m                                 Traceback (most recent call last)",
            "\u001b[0;32m<ipython-input-1-aeeccfa15539>\u001b[0m in \u001b[0;36m<module>\u001b[0;34m()\u001b[0m\n\u001b[1;32m      1\u001b[0m \u001b[0;31m# encode the target labels\u001b[0m\u001b[0;34m\u001b[0m\u001b[0;34m\u001b[0m\u001b[0;34m\u001b[0m\u001b[0m\n\u001b[0;32m----> 2\u001b[0;31m \u001b[0mtargetNames\u001b[0m \u001b[0;34m=\u001b[0m \u001b[0mnp\u001b[0m\u001b[0;34m.\u001b[0m\u001b[0munique\u001b[0m\u001b[0;34m(\u001b[0m\u001b[0mlabel_list\u001b[0m\u001b[0;34m)\u001b[0m\u001b[0;34m\u001b[0m\u001b[0;34m\u001b[0m\u001b[0m\n\u001b[0m\u001b[1;32m      3\u001b[0m \u001b[0mle\u001b[0m          \u001b[0;34m=\u001b[0m \u001b[0mLabelEncoder\u001b[0m\u001b[0;34m(\u001b[0m\u001b[0;34m)\u001b[0m\u001b[0;34m\u001b[0m\u001b[0;34m\u001b[0m\u001b[0m\n\u001b[1;32m      4\u001b[0m \u001b[0mtarget\u001b[0m      \u001b[0;34m=\u001b[0m \u001b[0mle\u001b[0m\u001b[0;34m.\u001b[0m\u001b[0mfit_transform\u001b[0m\u001b[0;34m(\u001b[0m\u001b[0mlabel_list\u001b[0m\u001b[0;34m)\u001b[0m\u001b[0;34m\u001b[0m\u001b[0;34m\u001b[0m\u001b[0m\n\u001b[1;32m      5\u001b[0m \u001b[0mprint\u001b[0m\u001b[0;34m(\u001b[0m\u001b[0;34m\"[STATUS] training labels encoded...\"\u001b[0m\u001b[0;34m)\u001b[0m\u001b[0;34m\u001b[0m\u001b[0;34m\u001b[0m\u001b[0m\n",
            "\u001b[0;31mNameError\u001b[0m: name 'np' is not defined"
          ]
        }
      ]
    },
    {
      "cell_type": "code",
      "metadata": {
        "id": "skNhu3wtA_mr",
        "colab": {
          "base_uri": "https://localhost:8080/",
          "height": 34
        },
        "outputId": "247e82bb-b3dd-4921-8736-57b66b73b0f0"
      },
      "source": [
        "# scale features in the range (0-1)\n",
        "scaler            = MinMaxScaler(feature_range=(0, 1))\n",
        "rescaled_features = scaler.fit_transform(global_features)\n",
        "print(\"[STATUS] feature vector normalized...\")\n"
      ],
      "execution_count": null,
      "outputs": [
        {
          "output_type": "stream",
          "text": [
            "[STATUS] feature vector normalized...\n"
          ],
          "name": "stdout"
        }
      ]
    },
    {
      "cell_type": "code",
      "metadata": {
        "id": "mKJkG_ABBE_l",
        "colab": {
          "base_uri": "https://localhost:8080/",
          "height": 34
        },
        "outputId": "333aa27a-2110-49e2-b73d-cfbecf58bd53"
      },
      "source": [
        "# save the feature vector using HDF5\n",
        "h5f_data = h5py.File(h5_data, 'w')\n",
        "h5f_data.create_dataset('dataset_1', data=np.array(rescaled_features))\n",
        "\n",
        "h5f_label = h5py.File(h5_labels, 'w')\n",
        "h5f_label.create_dataset('dataset_1', data=np.array(target))\n",
        "\n",
        "h5f_data.close()\n",
        "h5f_label.close()\n",
        "\n",
        "print(\"[STATUS] end of training..\")"
      ],
      "execution_count": null,
      "outputs": [
        {
          "output_type": "stream",
          "text": [
            "[STATUS] end of training..\n"
          ],
          "name": "stdout"
        }
      ]
    },
    {
      "cell_type": "code",
      "metadata": {
        "id": "PD_A-n7y8AeM",
        "colab": {
          "base_uri": "https://localhost:8080/",
          "height": 34
        },
        "outputId": "fe384ae2-1bdd-4330-f719-c754eded617b"
      },
      "source": [
        "print(\"[STATUS] target labels shape: {}\".format(target.shape))"
      ],
      "execution_count": null,
      "outputs": [
        {
          "output_type": "stream",
          "text": [
            "[STATUS] target labels shape: (15236,)\n"
          ],
          "name": "stdout"
        }
      ]
    },
    {
      "cell_type": "code",
      "metadata": {
        "id": "ePWDu9SJ8BwF",
        "colab": {
          "base_uri": "https://localhost:8080/",
          "height": 34
        },
        "outputId": "1a186614-ae2f-45b1-9f24-8a088c5164c5"
      },
      "source": [
        "image_size = len(image_list)\n",
        "print(image_size)"
      ],
      "execution_count": null,
      "outputs": [
        {
          "output_type": "stream",
          "text": [
            "15236\n"
          ],
          "name": "stdout"
        }
      ]
    },
    {
      "cell_type": "code",
      "metadata": {
        "id": "Nc0dJjLn8IE4",
        "colab": {
          "base_uri": "https://localhost:8080/",
          "height": 1000
        },
        "outputId": "7e3c1978-38d2-48ed-e447-50df3ac1ee23"
      },
      "source": [
        "image_list[:5]"
      ],
      "execution_count": null,
      "outputs": [
        {
          "output_type": "execute_result",
          "data": {
            "text/plain": [
              "[array([[[118., 105., 113.],\n",
              "         [120., 107., 115.],\n",
              "         [123., 110., 118.],\n",
              "         ...,\n",
              "         [112., 102., 114.],\n",
              "         [119., 109., 121.],\n",
              "         [107.,  97., 109.]],\n",
              " \n",
              "        [[136., 123., 131.],\n",
              "         [136., 123., 131.],\n",
              "         [135., 122., 130.],\n",
              "         ...,\n",
              "         [131., 121., 133.],\n",
              "         [132., 122., 134.],\n",
              "         [107.,  97., 109.]],\n",
              " \n",
              "        [[121., 108., 116.],\n",
              "         [121., 108., 116.],\n",
              "         [120., 107., 115.],\n",
              "         ...,\n",
              "         [109.,  99., 111.],\n",
              "         [109.,  99., 111.],\n",
              "         [118., 108., 120.]],\n",
              " \n",
              "        ...,\n",
              " \n",
              "        [[194., 187., 192.],\n",
              "         [192., 185., 190.],\n",
              "         [189., 182., 187.],\n",
              "         ...,\n",
              "         [183., 179., 185.],\n",
              "         [183., 179., 185.],\n",
              "         [183., 179., 185.]],\n",
              " \n",
              "        [[195., 188., 193.],\n",
              "         [193., 186., 191.],\n",
              "         [191., 184., 189.],\n",
              "         ...,\n",
              "         [177., 173., 179.],\n",
              "         [179., 175., 181.],\n",
              "         [180., 176., 182.]],\n",
              " \n",
              "        [[195., 188., 193.],\n",
              "         [193., 186., 191.],\n",
              "         [192., 185., 190.],\n",
              "         ...,\n",
              "         [175., 171., 177.],\n",
              "         [176., 172., 178.],\n",
              "         [179., 175., 181.]]], dtype=float32), array([[[171., 167., 179.],\n",
              "         [168., 164., 176.],\n",
              "         [165., 161., 173.],\n",
              "         ...,\n",
              "         [136., 133., 148.],\n",
              "         [133., 130., 145.],\n",
              "         [127., 124., 139.]],\n",
              " \n",
              "        [[157., 153., 165.],\n",
              "         [166., 162., 174.],\n",
              "         [164., 160., 172.],\n",
              "         ...,\n",
              "         [137., 134., 149.],\n",
              "         [133., 130., 145.],\n",
              "         [127., 124., 139.]],\n",
              " \n",
              "        [[142., 138., 150.],\n",
              "         [163., 159., 171.],\n",
              "         [160., 156., 168.],\n",
              "         ...,\n",
              "         [132., 129., 144.],\n",
              "         [132., 129., 144.],\n",
              "         [131., 128., 143.]],\n",
              " \n",
              "        ...,\n",
              " \n",
              "        [[141., 137., 156.],\n",
              "         [148., 144., 163.],\n",
              "         [138., 134., 153.],\n",
              "         ...,\n",
              "         [125., 126., 146.],\n",
              "         [127., 128., 148.],\n",
              "         [107., 108., 128.]],\n",
              " \n",
              "        [[140., 136., 155.],\n",
              "         [150., 146., 165.],\n",
              "         [139., 135., 154.],\n",
              "         ...,\n",
              "         [117., 118., 138.],\n",
              "         [131., 132., 152.],\n",
              "         [133., 134., 154.]],\n",
              " \n",
              "        [[153., 149., 168.],\n",
              "         [165., 161., 180.],\n",
              "         [150., 146., 165.],\n",
              "         ...,\n",
              "         [113., 114., 134.],\n",
              "         [112., 113., 133.],\n",
              "         [122., 123., 143.]]], dtype=float32), array([[[124., 114., 126.],\n",
              "         [125., 115., 127.],\n",
              "         [130., 120., 132.],\n",
              "         ...,\n",
              "         [131., 116., 124.],\n",
              "         [130., 115., 123.],\n",
              "         [143., 128., 136.]],\n",
              " \n",
              "        [[125., 115., 127.],\n",
              "         [126., 116., 128.],\n",
              "         [129., 119., 131.],\n",
              "         ...,\n",
              "         [139., 124., 132.],\n",
              "         [131., 116., 124.],\n",
              "         [129., 114., 122.]],\n",
              " \n",
              "        [[121., 111., 123.],\n",
              "         [122., 112., 124.],\n",
              "         [122., 112., 124.],\n",
              "         ...,\n",
              "         [146., 131., 139.],\n",
              "         [137., 122., 130.],\n",
              "         [128., 113., 121.]],\n",
              " \n",
              "        ...,\n",
              " \n",
              "        [[178., 174., 185.],\n",
              "         [177., 173., 184.],\n",
              "         [177., 173., 184.],\n",
              "         ...,\n",
              "         [148., 144., 156.],\n",
              "         [151., 147., 159.],\n",
              "         [156., 152., 164.]],\n",
              " \n",
              "        [[173., 169., 180.],\n",
              "         [174., 170., 181.],\n",
              "         [175., 171., 182.],\n",
              "         ...,\n",
              "         [153., 149., 161.],\n",
              "         [153., 149., 161.],\n",
              "         [157., 153., 165.]],\n",
              " \n",
              "        [[169., 165., 176.],\n",
              "         [171., 167., 178.],\n",
              "         [173., 169., 180.],\n",
              "         ...,\n",
              "         [159., 155., 167.],\n",
              "         [156., 152., 164.],\n",
              "         [158., 154., 166.]]], dtype=float32), array([[[160., 156., 167.],\n",
              "         [158., 154., 165.],\n",
              "         [160., 156., 167.],\n",
              "         ...,\n",
              "         [160., 154., 165.],\n",
              "         [158., 152., 163.],\n",
              "         [167., 161., 172.]],\n",
              " \n",
              "        [[147., 143., 154.],\n",
              "         [162., 158., 169.],\n",
              "         [154., 150., 161.],\n",
              "         ...,\n",
              "         [175., 169., 180.],\n",
              "         [157., 151., 162.],\n",
              "         [159., 153., 164.]],\n",
              " \n",
              "        [[140., 136., 147.],\n",
              "         [169., 165., 176.],\n",
              "         [155., 151., 162.],\n",
              "         ...,\n",
              "         [158., 152., 163.],\n",
              "         [175., 169., 180.],\n",
              "         [156., 150., 161.]],\n",
              " \n",
              "        ...,\n",
              " \n",
              "        [[171., 165., 176.],\n",
              "         [168., 162., 173.],\n",
              "         [152., 146., 157.],\n",
              "         ...,\n",
              "         [207., 203., 208.],\n",
              "         [202., 198., 203.],\n",
              "         [205., 201., 206.]],\n",
              " \n",
              "        [[201., 195., 206.],\n",
              "         [166., 160., 171.],\n",
              "         [189., 183., 194.],\n",
              "         ...,\n",
              "         [203., 199., 204.],\n",
              "         [207., 203., 208.],\n",
              "         [203., 199., 204.]],\n",
              " \n",
              "        [[183., 177., 188.],\n",
              "         [162., 156., 167.],\n",
              "         [200., 194., 205.],\n",
              "         ...,\n",
              "         [199., 195., 200.],\n",
              "         [210., 206., 211.],\n",
              "         [202., 198., 203.]]], dtype=float32), array([[[140., 134., 145.],\n",
              "         [143., 137., 148.],\n",
              "         [147., 141., 152.],\n",
              "         ...,\n",
              "         [158., 152., 163.],\n",
              "         [154., 148., 159.],\n",
              "         [154., 148., 159.]],\n",
              " \n",
              "        [[140., 134., 145.],\n",
              "         [141., 135., 146.],\n",
              "         [142., 136., 147.],\n",
              "         ...,\n",
              "         [185., 179., 190.],\n",
              "         [147., 141., 152.],\n",
              "         [179., 173., 184.]],\n",
              " \n",
              "        [[147., 141., 152.],\n",
              "         [146., 140., 151.],\n",
              "         [143., 137., 148.],\n",
              "         ...,\n",
              "         [141., 135., 146.],\n",
              "         [153., 147., 158.],\n",
              "         [180., 174., 185.]],\n",
              " \n",
              "        ...,\n",
              " \n",
              "        [[149., 141., 152.],\n",
              "         [167., 159., 170.],\n",
              "         [132., 124., 135.],\n",
              "         ...,\n",
              "         [206., 199., 204.],\n",
              "         [220., 213., 218.],\n",
              "         [200., 193., 198.]],\n",
              " \n",
              "        [[166., 158., 169.],\n",
              "         [120., 112., 123.],\n",
              "         [145., 137., 148.],\n",
              "         ...,\n",
              "         [187., 180., 185.],\n",
              "         [205., 198., 203.],\n",
              "         [209., 202., 207.]],\n",
              " \n",
              "        [[173., 165., 176.],\n",
              "         [145., 137., 148.],\n",
              "         [166., 158., 169.],\n",
              "         ...,\n",
              "         [197., 190., 195.],\n",
              "         [210., 203., 208.],\n",
              "         [193., 186., 191.]]], dtype=float32)]"
            ]
          },
          "metadata": {
            "tags": []
          },
          "execution_count": 15
        }
      ]
    },
    {
      "cell_type": "code",
      "metadata": {
        "id": "7WpO51pkEHB9"
      },
      "source": [
        "import keras\n",
        "from keras.models import Sequential\n",
        "from keras.layers import Dense, Dropout, Flatten\n",
        "from keras.layers import Conv2D, MaxPooling2D"
      ],
      "execution_count": null,
      "outputs": []
    },
    {
      "cell_type": "code",
      "metadata": {
        "id": "YZv9s8aeanRV"
      },
      "source": [
        "model = keras.Sequential([\n",
        "    keras.layers.Dense(128, activation='relu'),\n",
        "    keras.layers.Dense(128, activation='relu'),\n",
        "    keras.layers.Dense(128, activation='relu'),\n",
        "    keras.layers.Dense(128, activation='sigmoid'),\n",
        "   \n",
        "    keras.layers.Dense(128, activation='sigmoid'),\n",
        "    keras.layers.Dense(128, activation='sigmoid'),\n",
        "    keras.layers.Dense(11, activation='softmax')\n",
        "])"
      ],
      "execution_count": null,
      "outputs": []
    },
    {
      "cell_type": "code",
      "metadata": {
        "id": "I93MQZpb9NdV"
      },
      "source": [
        "model.compile(optimizer='adam',\n",
        "              loss='sparse_categorical_crossentropy',\n",
        "              metrics=['accuracy'])"
      ],
      "execution_count": null,
      "outputs": []
    },
    {
      "cell_type": "code",
      "metadata": {
        "id": "wVhe-_RRYm7c"
      },
      "source": [
        "h5f_data  = h5py.File(h5_data, 'r')\n",
        "h5f_label = h5py.File(h5_labels, 'r')\n",
        "\n",
        "global_features_string = h5f_data['dataset_1']\n",
        "global_labels_string   = h5f_label['dataset_1']\n",
        "\n",
        "global_features = np.array(global_features_string)\n",
        "global_labels   = np.array(global_labels_string)\n",
        "\n",
        "h5f_data.close()\n",
        "h5f_label.close()"
      ],
      "execution_count": null,
      "outputs": []
    },
    {
      "cell_type": "code",
      "metadata": {
        "id": "Li8mLdFfZgoi",
        "colab": {
          "base_uri": "https://localhost:8080/",
          "height": 51
        },
        "outputId": "f217c31b-33aa-4116-e19b-b0f29aac6376"
      },
      "source": [
        "# verify the shape of the feature vector and labels\n",
        "print(\"[STATUS] features shape: {}\".format(global_features.shape))\n",
        "print(\"[STATUS] labels shape: {}\".format(global_labels.shape))"
      ],
      "execution_count": null,
      "outputs": [
        {
          "output_type": "stream",
          "text": [
            "[STATUS] features shape: (15236, 545)\n",
            "[STATUS] labels shape: (15236,)\n"
          ],
          "name": "stdout"
        }
      ]
    },
    {
      "cell_type": "code",
      "metadata": {
        "id": "uoSo1zpdOgy2",
        "colab": {
          "base_uri": "https://localhost:8080/",
          "height": 102
        },
        "outputId": "3b113248-e98b-44aa-e0a1-f2982743e7e9"
      },
      "source": [
        "# split the training and testing data\n",
        "(trainDataGlobal, testDataGlobal, trainLabelsGlobal, testLabelsGlobal) = train_test_split(np.array(global_features),\n",
        "                                                                                          np.array(global_labels),\n",
        "                                                                                          test_size=test_size,\n",
        "                                                                                          random_state=seed)\n",
        "\n",
        "print(\"[STATUS] splitted train and test data...\")\n",
        "print(\"Train data  : {}\".format(trainDataGlobal.shape))\n",
        "print(\"Test data   : {}\".format(testDataGlobal.shape))\n",
        "print(\"Train labels: {}\".format(trainLabelsGlobal.shape))\n",
        "print(\"Test labels : {}\".format(testLabelsGlobal.shape))"
      ],
      "execution_count": null,
      "outputs": [
        {
          "output_type": "stream",
          "text": [
            "[STATUS] splitted train and test data...\n",
            "Train data  : (13712, 545)\n",
            "Test data   : (1524, 545)\n",
            "Train labels: (13712,)\n",
            "Test labels : (1524,)\n"
          ],
          "name": "stdout"
        }
      ]
    },
    {
      "cell_type": "code",
      "metadata": {
        "id": "8iOekQ3aOsRm",
        "colab": {
          "base_uri": "https://localhost:8080/",
          "height": 714
        },
        "outputId": "9c236bd4-b798-4109-af32-cb6976c47606"
      },
      "source": [
        "model.fit(trainDataGlobal, trainLabelsGlobal,epochs=20)\n"
      ],
      "execution_count": null,
      "outputs": [
        {
          "output_type": "stream",
          "text": [
            "Epoch 1/20\n",
            "13712/13712 [==============================] - 2s 168us/step - loss: 1.4119 - accuracy: 0.5005\n",
            "Epoch 2/20\n",
            "13712/13712 [==============================] - 2s 124us/step - loss: 0.6250 - accuracy: 0.7931\n",
            "Epoch 3/20\n",
            "13712/13712 [==============================] - 2s 121us/step - loss: 0.3865 - accuracy: 0.8766\n",
            "Epoch 4/20\n",
            "13712/13712 [==============================] - 2s 122us/step - loss: 0.2776 - accuracy: 0.9134\n",
            "Epoch 5/20\n",
            "13712/13712 [==============================] - 2s 123us/step - loss: 0.2157 - accuracy: 0.9333\n",
            "Epoch 6/20\n",
            "13712/13712 [==============================] - 2s 123us/step - loss: 0.1673 - accuracy: 0.9483\n",
            "Epoch 7/20\n",
            "13712/13712 [==============================] - 2s 123us/step - loss: 0.1482 - accuracy: 0.9529\n",
            "Epoch 8/20\n",
            "13712/13712 [==============================] - 2s 120us/step - loss: 0.1252 - accuracy: 0.9623\n",
            "Epoch 9/20\n",
            "13712/13712 [==============================] - 2s 123us/step - loss: 0.1075 - accuracy: 0.9651\n",
            "Epoch 10/20\n",
            "13712/13712 [==============================] - 2s 118us/step - loss: 0.1014 - accuracy: 0.9677\n",
            "Epoch 11/20\n",
            "13712/13712 [==============================] - 2s 119us/step - loss: 0.0933 - accuracy: 0.9724\n",
            "Epoch 12/20\n",
            "13712/13712 [==============================] - 2s 123us/step - loss: 0.0890 - accuracy: 0.9727\n",
            "Epoch 13/20\n",
            "13712/13712 [==============================] - 2s 117us/step - loss: 0.0688 - accuracy: 0.9798\n",
            "Epoch 14/20\n",
            "13712/13712 [==============================] - 2s 120us/step - loss: 0.0679 - accuracy: 0.9784\n",
            "Epoch 15/20\n",
            "13712/13712 [==============================] - 2s 120us/step - loss: 0.0718 - accuracy: 0.9775\n",
            "Epoch 16/20\n",
            "13712/13712 [==============================] - 2s 116us/step - loss: 0.0559 - accuracy: 0.9827\n",
            "Epoch 17/20\n",
            "13712/13712 [==============================] - 2s 121us/step - loss: 0.0620 - accuracy: 0.9805\n",
            "Epoch 18/20\n",
            "13712/13712 [==============================] - 2s 123us/step - loss: 0.0394 - accuracy: 0.9883\n",
            "Epoch 19/20\n",
            "13712/13712 [==============================] - 2s 120us/step - loss: 0.0504 - accuracy: 0.9842\n",
            "Epoch 20/20\n",
            "13712/13712 [==============================] - 2s 124us/step - loss: 0.0501 - accuracy: 0.9829\n"
          ],
          "name": "stdout"
        },
        {
          "output_type": "execute_result",
          "data": {
            "text/plain": [
              "<keras.callbacks.callbacks.History at 0x7f008d31ee10>"
            ]
          },
          "metadata": {
            "tags": []
          },
          "execution_count": 22
        }
      ]
    },
    {
      "cell_type": "code",
      "metadata": {
        "id": "6ZHiNpJ3T6VU",
        "colab": {
          "base_uri": "https://localhost:8080/",
          "height": 163
        },
        "outputId": "c7e75de3-ab9d-48ea-d5fc-3415705bab15"
      },
      "source": [
        "model.save(\"/content/gdrive/My Drive/rice_leaf_disease/PlantVillage.h5\")"
      ],
      "execution_count": null,
      "outputs": [
        {
          "output_type": "error",
          "ename": "NameError",
          "evalue": "ignored",
          "traceback": [
            "\u001b[0;31m---------------------------------------------------------------------------\u001b[0m",
            "\u001b[0;31mNameError\u001b[0m                                 Traceback (most recent call last)",
            "\u001b[0;32m<ipython-input-1-72bd1861a3b2>\u001b[0m in \u001b[0;36m<module>\u001b[0;34m()\u001b[0m\n\u001b[0;32m----> 1\u001b[0;31m \u001b[0mmodel\u001b[0m\u001b[0;34m.\u001b[0m\u001b[0msave\u001b[0m\u001b[0;34m(\u001b[0m\u001b[0;34m\"/content/gdrive/My Drive/rice_leaf_disease/PlantVillage.h5\"\u001b[0m\u001b[0;34m)\u001b[0m\u001b[0;34m\u001b[0m\u001b[0;34m\u001b[0m\u001b[0m\n\u001b[0m",
            "\u001b[0;31mNameError\u001b[0m: name 'model' is not defined"
          ]
        }
      ]
    },
    {
      "cell_type": "code",
      "metadata": {
        "id": "e8i-79RnJHQn"
      },
      "source": [
        "train_labels=['tomato_yellowleaf_curls','tomato_targetspot','tomato_spider_mites_spotte','tomato_mosiacvirus','tomato_leafblight','tomato_earlyblight','tomato_bacterialspot','potato_leafblight',\n",
        "              'potato_earlyblight','pepper_bellhealthy']"
      ],
      "execution_count": null,
      "outputs": []
    },
    {
      "cell_type": "code",
      "metadata": {
        "id": "7bxJV_rPPd6L"
      },
      "source": [
        "def predict_disease(file):\n",
        "        image = cv2.imread(file)\n",
        "        image = cv2.resize(image, fixed_size)\n",
        "        fv_hu_moments = fd_hu_moments(image)\n",
        "        fv_histogram  = fd_histogram(image)\n",
        "        fv_texture=LBP(file)\n",
        "        global_feature = np.hstack([fv_histogram,fv_hu_moments,fv_texture]).reshape(-1,1)\n",
        "        scaler = MinMaxScaler(feature_range=(0, 1))\n",
        "        rescaled_feature = scaler.fit_transform(global_feature)\n",
        "        prediction = model.predict(rescaled_feature.reshape(1,-1))[0]  \n",
        "        print(prediction)\n",
        "        p=np.argmax(prediction)\n",
        "        print(p)\n",
        "        cv2.putText(image,train_labels[p], (20,30), cv2.FONT_HERSHEY_SIMPLEX, 1.0, (0,0,255), 3)\n",
        "        plt.imshow(cv2.cvtColor(image, cv2.COLOR_BGR2RGB))\n",
        "  "
      ],
      "execution_count": null,
      "outputs": []
    },
    {
      "cell_type": "code",
      "metadata": {
        "id": "ve3HyuElRANR",
        "colab": {
          "base_uri": "https://localhost:8080/",
          "height": 299
        },
        "outputId": "6dab1399-388b-482b-b519-11def6220a72"
      },
      "source": [
        "file=\"/content/gdrive/My Drive/rice_leaf_disease/leafblight_potato.JPG\"\n",
        "predict_disease(file)      "
      ],
      "execution_count": null,
      "outputs": [
        {
          "output_type": "error",
          "ename": "NameError",
          "evalue": "ignored",
          "traceback": [
            "\u001b[0;31m---------------------------------------------------------------------------\u001b[0m",
            "\u001b[0;31mNameError\u001b[0m                                 Traceback (most recent call last)",
            "\u001b[0;32m<ipython-input-8-3242700c8fbd>\u001b[0m in \u001b[0;36m<module>\u001b[0;34m()\u001b[0m\n\u001b[1;32m      1\u001b[0m \u001b[0mfile\u001b[0m\u001b[0;34m=\u001b[0m\u001b[0;34m\"/content/gdrive/My Drive/rice_leaf_disease/leafblight_potato.JPG\"\u001b[0m\u001b[0;34m\u001b[0m\u001b[0;34m\u001b[0m\u001b[0m\n\u001b[0;32m----> 2\u001b[0;31m \u001b[0mpredict_disease\u001b[0m\u001b[0;34m(\u001b[0m\u001b[0mfile\u001b[0m\u001b[0;34m)\u001b[0m\u001b[0;34m\u001b[0m\u001b[0;34m\u001b[0m\u001b[0m\n\u001b[0m",
            "\u001b[0;32m<ipython-input-4-6e527cdbc595>\u001b[0m in \u001b[0;36mpredict_disease\u001b[0;34m(file)\u001b[0m\n\u001b[1;32m      1\u001b[0m \u001b[0;32mdef\u001b[0m \u001b[0mpredict_disease\u001b[0m\u001b[0;34m(\u001b[0m\u001b[0mfile\u001b[0m\u001b[0;34m)\u001b[0m\u001b[0;34m:\u001b[0m\u001b[0;34m\u001b[0m\u001b[0;34m\u001b[0m\u001b[0m\n\u001b[1;32m      2\u001b[0m         \u001b[0mimage\u001b[0m \u001b[0;34m=\u001b[0m \u001b[0mcv2\u001b[0m\u001b[0;34m.\u001b[0m\u001b[0mimread\u001b[0m\u001b[0;34m(\u001b[0m\u001b[0mfile\u001b[0m\u001b[0;34m)\u001b[0m\u001b[0;34m\u001b[0m\u001b[0;34m\u001b[0m\u001b[0m\n\u001b[0;32m----> 3\u001b[0;31m         \u001b[0mimage\u001b[0m \u001b[0;34m=\u001b[0m \u001b[0mcv2\u001b[0m\u001b[0;34m.\u001b[0m\u001b[0mresize\u001b[0m\u001b[0;34m(\u001b[0m\u001b[0mimage\u001b[0m\u001b[0;34m,\u001b[0m \u001b[0mfixed_size\u001b[0m\u001b[0;34m)\u001b[0m\u001b[0;34m\u001b[0m\u001b[0;34m\u001b[0m\u001b[0m\n\u001b[0m\u001b[1;32m      4\u001b[0m         \u001b[0mfv_hu_moments\u001b[0m \u001b[0;34m=\u001b[0m \u001b[0mfd_hu_moments\u001b[0m\u001b[0;34m(\u001b[0m\u001b[0mimage\u001b[0m\u001b[0;34m)\u001b[0m\u001b[0;34m\u001b[0m\u001b[0;34m\u001b[0m\u001b[0m\n\u001b[1;32m      5\u001b[0m         \u001b[0mfv_histogram\u001b[0m  \u001b[0;34m=\u001b[0m \u001b[0mfd_histogram\u001b[0m\u001b[0;34m(\u001b[0m\u001b[0mimage\u001b[0m\u001b[0;34m)\u001b[0m\u001b[0;34m\u001b[0m\u001b[0;34m\u001b[0m\u001b[0m\n",
            "\u001b[0;31mNameError\u001b[0m: name 'fixed_size' is not defined"
          ]
        }
      ]
    },
    {
      "cell_type": "code",
      "metadata": {
        "id": "eSWEDUnMckxU",
        "colab": {
          "base_uri": "https://localhost:8080/",
          "height": 371
        },
        "outputId": "a0c5797e-b4cc-480d-b110-669198a3c98f"
      },
      "source": [
        "file=\"/content/gdrive/My Drive/rice_leaf_disease/tomato_mosiacvirus.JPG\"\n",
        "predict_disease(file)      "
      ],
      "execution_count": null,
      "outputs": [
        {
          "output_type": "stream",
          "text": [
            "/usr/local/lib/python3.6/dist-packages/ipykernel_launcher.py:17: DeprecationWarning: `itemfreq` is deprecated!\n",
            "`itemfreq` is deprecated and will be removed in a future version. Use instead `np.unique(..., return_counts=True)`\n"
          ],
          "name": "stderr"
        },
        {
          "output_type": "stream",
          "text": [
            "[4.2498494e-03 4.4974931e-05 1.2485249e-03 2.2205288e-06 5.1903276e-06\n",
            " 2.1137532e-06 7.0826123e-03 7.3410362e-02 2.0709451e-06 9.1395181e-01\n",
            " 2.7541356e-07]\n",
            "9\n"
          ],
          "name": "stdout"
        },
        {
          "output_type": "display_data",
          "data": {
            "image/png": "[encoded data removed]",
            "text/plain": [
              "<Figure size 432x288 with 1 Axes>"
            ]
          },
          "metadata": {
            "tags": [],
            "needs_background": "light"
          }
        }
      ]
    },
    {
      "cell_type": "code",
      "metadata": {
        "id": "HHcA1VamK5QB"
      },
      "source": [],
      "execution_count": null,
      "outputs": []
    }
  ]
}